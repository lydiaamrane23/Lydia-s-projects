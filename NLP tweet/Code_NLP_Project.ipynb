{
 "cells": [
  {
   "cell_type": "markdown",
   "metadata": {},
   "source": [
    "## Librairies à importer"
   ]
  },
  {
   "cell_type": "code",
   "execution_count": 187,
   "metadata": {},
   "outputs": [],
   "source": [
    "import numpy as np \n",
    "import pandas as pd \n",
    "import hvplot.pandas\n",
    "import re \n",
    "from sklearn.metrics import f1_score\n",
    "from langdetect import detect\n",
    "from langdetect import detect_langs\n",
    "from sklearn import preprocessing\n",
    "from nltk.stem.snowball import EnglishStemmer\n",
    "from sklearn.neural_network import MLPClassifier\n",
    "from sklearn.metrics import accuracy_score\n",
    "from sklearn.ensemble import RandomForestClassifier\n",
    "from sklearn import svm\n",
    "from sklearn.model_selection import train_test_split\n",
    "from sklearn.feature_extraction.text import TfidfVectorizer\n",
    "from sklearn.feature_extraction.text import CountVectorizer\n",
    "from wordcloud import WordCloud, STOPWORDS \n",
    "import matplotlib.pyplot as plt"
   ]
  },
  {
   "cell_type": "markdown",
   "metadata": {},
   "source": [
    "## Chargement des données "
   ]
  },
  {
   "cell_type": "code",
   "execution_count": 2,
   "metadata": {},
   "outputs": [],
   "source": [
    "# chargement du fichier\n",
    "filin = open(\"data.txt\", \"r\").readlines()"
   ]
  },
  {
   "cell_type": "code",
   "execution_count": 4,
   "metadata": {},
   "outputs": [],
   "source": [
    "# Fonction pour charger le fichier dans un dataframe pour faciliter la manipulation des données \n",
    "def filin_to_df (fillin) : \n",
    "    df_out = pd.DataFrame(columns=[\"ID\" , \"feeling_detected\" , \"Company\" , \"Tweet_text\", \"tweet_text_length\"])\n",
    "    for tweet in filin : \n",
    "        tweet_ref = tweet[0:15]\n",
    "        tweet_text = tweet[15:] \n",
    "        tweet_text_length = len(tweet_text.split(\" \"))\n",
    "        tab_tweet_ref = tweet_ref.split(',')\n",
    "        ID = tab_tweet_ref[0][1:]\n",
    "        Sentiment = tab_tweet_ref[1]\n",
    "        Company = tab_tweet_ref[2][:-2]\n",
    "        df_out = df_out.append ({\"ID\" : ID ,\"feeling_detected\" :Sentiment ,  \"Company\" : Company , \n",
    "                    \"Tweet_text\" : tweet_text ,\"tweet_text_length\" : tweet_text_length  } , ignore_index=True)\n",
    "    return df_out\n",
    "df = filin_to_df(filin)"
   ]
  },
  {
   "cell_type": "code",
   "execution_count": 5,
   "metadata": {},
   "outputs": [
    {
     "data": {
      "text/html": [
       "<div>\n",
       "<style scoped>\n",
       "    .dataframe tbody tr th:only-of-type {\n",
       "        vertical-align: middle;\n",
       "    }\n",
       "\n",
       "    .dataframe tbody tr th {\n",
       "        vertical-align: top;\n",
       "    }\n",
       "\n",
       "    .dataframe thead th {\n",
       "        text-align: right;\n",
       "    }\n",
       "</style>\n",
       "<table border=\"1\" class=\"dataframe\">\n",
       "  <thead>\n",
       "    <tr style=\"text-align: right;\">\n",
       "      <th></th>\n",
       "      <th>ID</th>\n",
       "      <th>feeling_detected</th>\n",
       "      <th>Company</th>\n",
       "      <th>Tweet_text</th>\n",
       "      <th>tweet_text_length</th>\n",
       "    </tr>\n",
       "  </thead>\n",
       "  <tbody>\n",
       "    <tr>\n",
       "      <th>0</th>\n",
       "      <td>0000</td>\n",
       "      <td>neu</td>\n",
       "      <td>apl</td>\n",
       "      <td>20 min line @apple store @short pump.\\n</td>\n",
       "      <td>7</td>\n",
       "    </tr>\n",
       "    <tr>\n",
       "      <th>1</th>\n",
       "      <td>0001</td>\n",
       "      <td>irr</td>\n",
       "      <td>msf</td>\n",
       "      <td>Nueva tecnología convierte cualquier superfici...</td>\n",
       "      <td>12</td>\n",
       "    </tr>\n",
       "    <tr>\n",
       "      <th>2</th>\n",
       "      <td>0002</td>\n",
       "      <td>neu</td>\n",
       "      <td>ggl</td>\n",
       "      <td>Some people should not post replies in #Google...</td>\n",
       "      <td>17</td>\n",
       "    </tr>\n",
       "    <tr>\n",
       "      <th>3</th>\n",
       "      <td>0003</td>\n",
       "      <td>neg</td>\n",
       "      <td>apl</td>\n",
       "      <td>I know a few others having same issue RT @Joel...</td>\n",
       "      <td>22</td>\n",
       "    </tr>\n",
       "    <tr>\n",
       "      <th>4</th>\n",
       "      <td>0004</td>\n",
       "      <td>neg</td>\n",
       "      <td>msf</td>\n",
       "      <td>#Microsoft - We put the \"\"backwards\"\" into bac...</td>\n",
       "      <td>10</td>\n",
       "    </tr>\n",
       "  </tbody>\n",
       "</table>\n",
       "</div>"
      ],
      "text/plain": [
       "     ID feeling_detected Company  \\\n",
       "0  0000              neu     apl   \n",
       "1  0001              irr     msf   \n",
       "2  0002              neu     ggl   \n",
       "3  0003              neg     apl   \n",
       "4  0004              neg     msf   \n",
       "\n",
       "                                          Tweet_text tweet_text_length  \n",
       "0            20 min line @apple store @short pump.\\n                 7  \n",
       "1  Nueva tecnología convierte cualquier superfici...                12  \n",
       "2  Some people should not post replies in #Google...                17  \n",
       "3  I know a few others having same issue RT @Joel...                22  \n",
       "4  #Microsoft - We put the \"\"backwards\"\" into bac...                10  "
      ]
     },
     "execution_count": 5,
     "metadata": {},
     "output_type": "execute_result"
    }
   ],
   "source": [
    "# resultat de la fonction \n",
    "df.head()"
   ]
  },
  {
   "cell_type": "code",
   "execution_count": 8,
   "metadata": {},
   "outputs": [],
   "source": [
    "## Detection de la langue du tweet et pour cela on a utiliser la bibliotheque langdetect\n",
    "# les valeur de cette nouvelle colonne code est 1 si English est detecter, 0 si non \n",
    "langue = []\n",
    "for index in  df.index  : \n",
    "    string = df.loc[index,'Tweet_text']\n",
    "    dec = detect_langs(string)\n",
    "    dec = [str(x).split(':') for x in dec]\n",
    "    dec = {x[0] : float(x[1]) for x in dec}\n",
    "    if  'en' in dec and dec['en'] >= 0.80 : \n",
    "        langue.append(1)\n",
    "    else : \n",
    "        langue.append(0)"
   ]
  },
  {
   "cell_type": "code",
   "execution_count": 9,
   "metadata": {},
   "outputs": [
    {
     "data": {
      "text/html": [
       "<div>\n",
       "<style scoped>\n",
       "    .dataframe tbody tr th:only-of-type {\n",
       "        vertical-align: middle;\n",
       "    }\n",
       "\n",
       "    .dataframe tbody tr th {\n",
       "        vertical-align: top;\n",
       "    }\n",
       "\n",
       "    .dataframe thead th {\n",
       "        text-align: right;\n",
       "    }\n",
       "</style>\n",
       "<table border=\"1\" class=\"dataframe\">\n",
       "  <thead>\n",
       "    <tr style=\"text-align: right;\">\n",
       "      <th></th>\n",
       "      <th>ID</th>\n",
       "      <th>feeling_detected</th>\n",
       "      <th>Company</th>\n",
       "      <th>Tweet_text</th>\n",
       "      <th>tweet_text_length</th>\n",
       "      <th>Langue</th>\n",
       "    </tr>\n",
       "  </thead>\n",
       "  <tbody>\n",
       "    <tr>\n",
       "      <th>0</th>\n",
       "      <td>0000</td>\n",
       "      <td>neu</td>\n",
       "      <td>apl</td>\n",
       "      <td>20 min line @apple store @short pump.\\n</td>\n",
       "      <td>7</td>\n",
       "      <td>1</td>\n",
       "    </tr>\n",
       "    <tr>\n",
       "      <th>1</th>\n",
       "      <td>0001</td>\n",
       "      <td>irr</td>\n",
       "      <td>msf</td>\n",
       "      <td>Nueva tecnología convierte cualquier superfici...</td>\n",
       "      <td>12</td>\n",
       "      <td>0</td>\n",
       "    </tr>\n",
       "    <tr>\n",
       "      <th>2</th>\n",
       "      <td>0002</td>\n",
       "      <td>neu</td>\n",
       "      <td>ggl</td>\n",
       "      <td>Some people should not post replies in #Google...</td>\n",
       "      <td>17</td>\n",
       "      <td>1</td>\n",
       "    </tr>\n",
       "    <tr>\n",
       "      <th>3</th>\n",
       "      <td>0003</td>\n",
       "      <td>neg</td>\n",
       "      <td>apl</td>\n",
       "      <td>I know a few others having same issue RT @Joel...</td>\n",
       "      <td>22</td>\n",
       "      <td>1</td>\n",
       "    </tr>\n",
       "    <tr>\n",
       "      <th>4</th>\n",
       "      <td>0004</td>\n",
       "      <td>neg</td>\n",
       "      <td>msf</td>\n",
       "      <td>#Microsoft - We put the \"\"backwards\"\" into bac...</td>\n",
       "      <td>10</td>\n",
       "      <td>1</td>\n",
       "    </tr>\n",
       "  </tbody>\n",
       "</table>\n",
       "</div>"
      ],
      "text/plain": [
       "     ID feeling_detected Company  \\\n",
       "0  0000              neu     apl   \n",
       "1  0001              irr     msf   \n",
       "2  0002              neu     ggl   \n",
       "3  0003              neg     apl   \n",
       "4  0004              neg     msf   \n",
       "\n",
       "                                          Tweet_text tweet_text_length  Langue  \n",
       "0            20 min line @apple store @short pump.\\n                 7       1  \n",
       "1  Nueva tecnología convierte cualquier superfici...                12       0  \n",
       "2  Some people should not post replies in #Google...                17       1  \n",
       "3  I know a few others having same issue RT @Joel...                22       1  \n",
       "4  #Microsoft - We put the \"\"backwards\"\" into bac...                10       1  "
      ]
     },
     "execution_count": 9,
     "metadata": {},
     "output_type": "execute_result"
    }
   ],
   "source": [
    "df[\"Langue\"] = langue\n",
    "df.head()"
   ]
  },
  {
   "cell_type": "markdown",
   "metadata": {},
   "source": [
    "## Visualisation des données "
   ]
  },
  {
   "cell_type": "code",
   "execution_count": 180,
   "metadata": {},
   "outputs": [
    {
     "data": {},
     "metadata": {},
     "output_type": "display_data"
    },
    {
     "data": {
      "application/vnd.holoviews_exec.v0+json": "",
      "text/html": [
       "<div id='1002'>\n",
       "\n",
       "\n",
       "\n",
       "\n",
       "\n",
       "  <div class=\"bk-root\" id=\"a8e085a7-f55e-47d2-bb4b-345829c64eac\" data-root-id=\"1002\"></div>\n",
       "</div>\n",
       "<script type=\"application/javascript\">(function(root) {\n",
       "  function embed_document(root) {\n",
       "    var docs_json = {\"e6f42937-edba-4ba0-8b5b-462257c11e6c\":{\"defs\":[{\"extends\":null,\"module\":null,\"name\":\"ReactiveHTML1\",\"overrides\":[],\"properties\":[]},{\"extends\":null,\"module\":null,\"name\":\"FlexBox1\",\"overrides\":[],\"properties\":[{\"default\":\"flex-start\",\"kind\":null,\"name\":\"align_content\"},{\"default\":\"flex-start\",\"kind\":null,\"name\":\"align_items\"},{\"default\":\"row\",\"kind\":null,\"name\":\"flex_direction\"},{\"default\":\"wrap\",\"kind\":null,\"name\":\"flex_wrap\"},{\"default\":\"flex-start\",\"kind\":null,\"name\":\"justify_content\"}]},{\"extends\":null,\"module\":null,\"name\":\"TemplateActions1\",\"overrides\":[],\"properties\":[{\"default\":0,\"kind\":null,\"name\":\"open_modal\"},{\"default\":0,\"kind\":null,\"name\":\"close_modal\"}]},{\"extends\":null,\"module\":null,\"name\":\"MaterialTemplateActions1\",\"overrides\":[],\"properties\":[{\"default\":0,\"kind\":null,\"name\":\"open_modal\"},{\"default\":0,\"kind\":null,\"name\":\"close_modal\"}]}],\"roots\":{\"references\":[{\"attributes\":{\"axis_label\":\"\",\"coordinates\":null,\"formatter\":{\"id\":\"1049\"},\"group\":null,\"major_label_policy\":{\"id\":\"1050\"},\"ticker\":{\"id\":\"1020\"}},\"id\":\"1019\",\"type\":\"LinearAxis\"},{\"attributes\":{\"coordinates\":null,\"data_source\":{\"id\":\"1036\"},\"glyph\":{\"id\":\"1039\"},\"group\":null,\"hover_glyph\":null,\"muted_glyph\":{\"id\":\"1041\"},\"nonselection_glyph\":{\"id\":\"1040\"},\"selection_glyph\":{\"id\":\"1044\"},\"view\":{\"id\":\"1043\"}},\"id\":\"1042\",\"type\":\"GlyphRenderer\"},{\"attributes\":{\"bottom\":{\"value\":0},\"fill_alpha\":{\"value\":1.0},\"fill_color\":{\"value\":\"#30a2da\"},\"hatch_alpha\":{\"value\":1.0},\"hatch_color\":{\"value\":\"#30a2da\"},\"hatch_scale\":{\"value\":12.0},\"hatch_weight\":{\"value\":1.0},\"line_alpha\":{\"value\":1.0},\"line_cap\":{\"value\":\"butt\"},\"line_color\":{\"value\":\"black\"},\"line_dash\":{\"value\":[]},\"line_dash_offset\":{\"value\":0},\"line_join\":{\"value\":\"bevel\"},\"line_width\":{\"value\":1},\"top\":{\"field\":\"ID\"},\"width\":{\"value\":0.8},\"x\":{\"field\":\"feeling_detected\"}},\"id\":\"1044\",\"type\":\"VBar\"},{\"attributes\":{},\"id\":\"1020\",\"type\":\"BasicTicker\"},{\"attributes\":{\"fill_alpha\":{\"value\":0.2},\"fill_color\":{\"value\":\"#30a2da\"},\"hatch_alpha\":{\"value\":0.2},\"hatch_color\":{\"value\":\"#30a2da\"},\"line_alpha\":{\"value\":0.2},\"top\":{\"field\":\"ID\"},\"width\":{\"value\":0.8},\"x\":{\"field\":\"feeling_detected\"}},\"id\":\"1041\",\"type\":\"VBar\"},{\"attributes\":{\"factors\":[\"irr\",\"neg\",\"neu\",\"pos\"],\"tags\":[[[\"feeling_detected\",\"feeling_detected\",null]]]},\"id\":\"1004\",\"type\":\"FactorRange\"},{\"attributes\":{\"source\":{\"id\":\"1036\"}},\"id\":\"1043\",\"type\":\"CDSView\"},{\"attributes\":{\"end\":2015.4,\"reset_end\":2015.4,\"reset_start\":0.0,\"tags\":[[[\"ID\",\"ID\",null]]]},\"id\":\"1005\",\"type\":\"Range1d\"},{\"attributes\":{},\"id\":\"1023\",\"type\":\"SaveTool\"},{\"attributes\":{\"callback\":null,\"renderers\":[{\"id\":\"1042\"}],\"tags\":[\"hv_created\"],\"tooltips\":[[\"feeling_detected\",\"@{feeling_detected}\"],[\"ID\",\"@{ID}\"]]},\"id\":\"1006\",\"type\":\"HoverTool\"},{\"attributes\":{\"children\":[{\"id\":\"1003\"},{\"id\":\"1007\"},{\"id\":\"1071\"}],\"margin\":[0,0,0,0],\"name\":\"Row01626\",\"tags\":[\"embedded\"]},\"id\":\"1002\",\"type\":\"Row\"},{\"attributes\":{},\"id\":\"1049\",\"type\":\"BasicTickFormatter\"},{\"attributes\":{},\"id\":\"1046\",\"type\":\"CategoricalTickFormatter\"},{\"attributes\":{\"margin\":[5,5,5,5],\"name\":\"HSpacer01630\",\"sizing_mode\":\"stretch_width\"},\"id\":\"1003\",\"type\":\"Spacer\"},{\"attributes\":{},\"id\":\"1037\",\"type\":\"Selection\"},{\"attributes\":{},\"id\":\"1012\",\"type\":\"CategoricalScale\"},{\"attributes\":{},\"id\":\"1024\",\"type\":\"PanTool\"},{\"attributes\":{},\"id\":\"1050\",\"type\":\"AllLabels\"},{\"attributes\":{},\"id\":\"1047\",\"type\":\"AllLabels\"},{\"attributes\":{},\"id\":\"1025\",\"type\":\"WheelZoomTool\"},{\"attributes\":{\"below\":[{\"id\":\"1016\"}],\"center\":[{\"id\":\"1018\"},{\"id\":\"1022\"}],\"height\":300,\"left\":[{\"id\":\"1019\"}],\"margin\":[5,5,5,5],\"min_border_bottom\":10,\"min_border_left\":10,\"min_border_right\":10,\"min_border_top\":10,\"renderers\":[{\"id\":\"1042\"}],\"sizing_mode\":\"fixed\",\"title\":{\"id\":\"1008\"},\"toolbar\":{\"id\":\"1029\"},\"width\":800,\"x_range\":{\"id\":\"1004\"},\"x_scale\":{\"id\":\"1012\"},\"y_range\":{\"id\":\"1005\"},\"y_scale\":{\"id\":\"1014\"}},\"id\":\"1007\",\"subtype\":\"Figure\",\"type\":\"Plot\"},{\"attributes\":{\"overlay\":{\"id\":\"1028\"}},\"id\":\"1026\",\"type\":\"BoxZoomTool\"},{\"attributes\":{},\"id\":\"1027\",\"type\":\"ResetTool\"},{\"attributes\":{\"coordinates\":null,\"group\":null,\"text\":\"ID\",\"text_color\":\"black\",\"text_font_size\":\"12pt\"},\"id\":\"1008\",\"type\":\"Title\"},{\"attributes\":{},\"id\":\"1058\",\"type\":\"UnionRenderers\"},{\"attributes\":{\"margin\":[5,5,5,5],\"name\":\"HSpacer01631\",\"sizing_mode\":\"stretch_width\"},\"id\":\"1071\",\"type\":\"Spacer\"},{\"attributes\":{},\"id\":\"1014\",\"type\":\"LinearScale\"},{\"attributes\":{\"fill_color\":{\"value\":\"#30a2da\"},\"hatch_color\":{\"value\":\"#30a2da\"},\"top\":{\"field\":\"ID\"},\"width\":{\"value\":0.8},\"x\":{\"field\":\"feeling_detected\"}},\"id\":\"1039\",\"type\":\"VBar\"},{\"attributes\":{\"axis_label\":\"feeling_detected\",\"coordinates\":null,\"formatter\":{\"id\":\"1046\"},\"group\":null,\"major_label_policy\":{\"id\":\"1047\"},\"ticker\":{\"id\":\"1017\"}},\"id\":\"1016\",\"type\":\"CategoricalAxis\"},{\"attributes\":{\"data\":{\"ID\":[1389,486,1871,427],\"feeling_detected\":[\"irr\",\"neg\",\"neu\",\"pos\"]},\"selected\":{\"id\":\"1037\"},\"selection_policy\":{\"id\":\"1058\"}},\"id\":\"1036\",\"type\":\"ColumnDataSource\"},{\"attributes\":{\"bottom_units\":\"screen\",\"coordinates\":null,\"fill_alpha\":0.5,\"fill_color\":\"lightgrey\",\"group\":null,\"left_units\":\"screen\",\"level\":\"overlay\",\"line_alpha\":1.0,\"line_color\":\"black\",\"line_dash\":[4,4],\"line_width\":2,\"right_units\":\"screen\",\"syncable\":false,\"top_units\":\"screen\"},\"id\":\"1028\",\"type\":\"BoxAnnotation\"},{\"attributes\":{},\"id\":\"1017\",\"type\":\"CategoricalTicker\"},{\"attributes\":{\"tools\":[{\"id\":\"1006\"},{\"id\":\"1023\"},{\"id\":\"1024\"},{\"id\":\"1025\"},{\"id\":\"1026\"},{\"id\":\"1027\"}]},\"id\":\"1029\",\"type\":\"Toolbar\"},{\"attributes\":{\"axis\":{\"id\":\"1019\"},\"coordinates\":null,\"dimension\":1,\"grid_line_color\":null,\"group\":null,\"ticker\":null},\"id\":\"1022\",\"type\":\"Grid\"},{\"attributes\":{\"fill_alpha\":{\"value\":0.1},\"fill_color\":{\"value\":\"#30a2da\"},\"hatch_alpha\":{\"value\":0.1},\"hatch_color\":{\"value\":\"#30a2da\"},\"line_alpha\":{\"value\":0.1},\"top\":{\"field\":\"ID\"},\"width\":{\"value\":0.8},\"x\":{\"field\":\"feeling_detected\"}},\"id\":\"1040\",\"type\":\"VBar\"},{\"attributes\":{\"axis\":{\"id\":\"1016\"},\"coordinates\":null,\"grid_line_color\":null,\"group\":null,\"ticker\":null},\"id\":\"1018\",\"type\":\"Grid\"}],\"root_ids\":[\"1002\"]},\"title\":\"Bokeh Application\",\"version\":\"2.4.0\"}};\n",
       "    var render_items = [{\"docid\":\"e6f42937-edba-4ba0-8b5b-462257c11e6c\",\"root_ids\":[\"1002\"],\"roots\":{\"1002\":\"a8e085a7-f55e-47d2-bb4b-345829c64eac\"}}];\n",
       "    root.Bokeh.embed.embed_items_notebook(docs_json, render_items);\n",
       "  }\n",
       "  if (root.Bokeh !== undefined && root.Bokeh.Panel !== undefined) {\n",
       "    embed_document(root);\n",
       "  } else {\n",
       "    var attempts = 0;\n",
       "    var timer = setInterval(function(root) {\n",
       "      if (root.Bokeh !== undefined && root.Bokeh.Panel !== undefined) {\n",
       "        clearInterval(timer);\n",
       "        embed_document(root);\n",
       "      } else if (document.readyState == \"complete\") {\n",
       "        attempts++;\n",
       "        if (attempts > 200) {\n",
       "          clearInterval(timer);\n",
       "          console.log(\"Bokeh: ERROR: Unable to run BokehJS code because BokehJS library is missing\");\n",
       "        }\n",
       "      }\n",
       "    }, 25, root)\n",
       "  }\n",
       "})(window);</script>"
      ],
      "text/plain": [
       ":Bars   [feeling_detected]   (ID)"
      ]
     },
     "execution_count": 180,
     "metadata": {
      "application/vnd.holoviews_exec.v0+json": {
       "id": "1002"
      }
     },
     "output_type": "execute_result"
    }
   ],
   "source": [
    "df_label = df.groupby('feeling_detected')['ID'].count()\n",
    "df_label.hvplot.bar(height= 300 , width= 800)"
   ]
  },
  {
   "cell_type": "code",
   "execution_count": 181,
   "metadata": {},
   "outputs": [
    {
     "data": {},
     "metadata": {},
     "output_type": "display_data"
    },
    {
     "data": {
      "application/vnd.holoviews_exec.v0+json": "",
      "text/html": [
       "<div id='1123'>\n",
       "\n",
       "\n",
       "\n",
       "\n",
       "\n",
       "  <div class=\"bk-root\" id=\"309dc0ec-d25e-4236-b747-0e5bb8043680\" data-root-id=\"1123\"></div>\n",
       "</div>\n",
       "<script type=\"application/javascript\">(function(root) {\n",
       "  function embed_document(root) {\n",
       "    var docs_json = {\"e694fa7d-e32b-404e-82a4-1f2c6cb3528b\":{\"defs\":[{\"extends\":null,\"module\":null,\"name\":\"ReactiveHTML1\",\"overrides\":[],\"properties\":[]},{\"extends\":null,\"module\":null,\"name\":\"FlexBox1\",\"overrides\":[],\"properties\":[{\"default\":\"flex-start\",\"kind\":null,\"name\":\"align_content\"},{\"default\":\"flex-start\",\"kind\":null,\"name\":\"align_items\"},{\"default\":\"row\",\"kind\":null,\"name\":\"flex_direction\"},{\"default\":\"wrap\",\"kind\":null,\"name\":\"flex_wrap\"},{\"default\":\"flex-start\",\"kind\":null,\"name\":\"justify_content\"}]},{\"extends\":null,\"module\":null,\"name\":\"TemplateActions1\",\"overrides\":[],\"properties\":[{\"default\":0,\"kind\":null,\"name\":\"open_modal\"},{\"default\":0,\"kind\":null,\"name\":\"close_modal\"}]},{\"extends\":null,\"module\":null,\"name\":\"MaterialTemplateActions1\",\"overrides\":[],\"properties\":[{\"default\":0,\"kind\":null,\"name\":\"open_modal\"},{\"default\":0,\"kind\":null,\"name\":\"close_modal\"}]}],\"roots\":{\"references\":[{\"attributes\":{},\"id\":\"1133\",\"type\":\"CategoricalScale\"},{\"attributes\":{\"coordinates\":null,\"group\":null,\"text\":\"ID\",\"text_color\":\"black\",\"text_font_size\":\"12pt\"},\"id\":\"1129\",\"type\":\"Title\"},{\"attributes\":{\"tools\":[{\"id\":\"1127\"},{\"id\":\"1144\"},{\"id\":\"1145\"},{\"id\":\"1146\"},{\"id\":\"1147\"},{\"id\":\"1148\"}]},\"id\":\"1150\",\"type\":\"Toolbar\"},{\"attributes\":{\"axis_label\":\"feeling_detected, Company\",\"coordinates\":null,\"formatter\":{\"id\":\"1168\"},\"group\":null,\"major_label_policy\":{\"id\":\"1169\"},\"ticker\":{\"id\":\"1138\"}},\"id\":\"1137\",\"type\":\"CategoricalAxis\"},{\"attributes\":{},\"id\":\"1138\",\"type\":\"CategoricalTicker\"},{\"attributes\":{},\"id\":\"1135\",\"type\":\"LinearScale\"},{\"attributes\":{\"axis_label\":\"\",\"coordinates\":null,\"formatter\":{\"id\":\"1171\"},\"group\":null,\"major_label_policy\":{\"id\":\"1172\"},\"ticker\":{\"id\":\"1141\"}},\"id\":\"1140\",\"type\":\"LinearAxis\"},{\"attributes\":{\"bottom_units\":\"screen\",\"coordinates\":null,\"fill_alpha\":0.5,\"fill_color\":\"lightgrey\",\"group\":null,\"left_units\":\"screen\",\"level\":\"overlay\",\"line_alpha\":1.0,\"line_color\":\"black\",\"line_dash\":[4,4],\"line_width\":2,\"right_units\":\"screen\",\"syncable\":false,\"top_units\":\"screen\"},\"id\":\"1149\",\"type\":\"BoxAnnotation\"},{\"attributes\":{\"callback\":null,\"renderers\":[{\"id\":\"1164\"}],\"tags\":[\"hv_created\"],\"tooltips\":[[\"feeling_detected\",\"@{feeling_detected}\"],[\"Company\",\"@{Company}\"],[\"ID\",\"@{ID}\"]]},\"id\":\"1127\",\"type\":\"HoverTool\"},{\"attributes\":{},\"id\":\"1141\",\"type\":\"BasicTicker\"},{\"attributes\":{\"factors\":[\"0\",\"1\",\"2\",\"3\"],\"palette\":[\"#30a2da\",\"#fc4f30\",\"#e5ae38\",\"#6d904f\"]},\"id\":\"1157\",\"type\":\"CategoricalColorMapper\"},{\"attributes\":{\"margin\":[5,5,5,5],\"name\":\"HSpacer01782\",\"sizing_mode\":\"stretch_width\"},\"id\":\"1193\",\"type\":\"Spacer\"},{\"attributes\":{\"axis\":{\"id\":\"1137\"},\"coordinates\":null,\"grid_line_color\":null,\"group\":null,\"ticker\":null},\"id\":\"1139\",\"type\":\"Grid\"},{\"attributes\":{\"data\":{\"Company\":[\"0\",\"0\",\"0\",\"0\",\"1\",\"1\",\"1\",\"1\",\"2\",\"2\",\"2\",\"2\",\"3\",\"3\",\"3\",\"3\"],\"ID\":[125,267,422,140,398,47,455,167,401,111,516,73,465,61,478,47],\"feeling_detected\":[\"irr\",\"neg\",\"neu\",\"pos\",\"irr\",\"neg\",\"neu\",\"pos\",\"irr\",\"neg\",\"neu\",\"pos\",\"irr\",\"neg\",\"neu\",\"pos\"],\"xoffsets\":[[\"irr\",\"0\"],[\"neg\",\"0\"],[\"neu\",\"0\"],[\"pos\",\"0\"],[\"irr\",\"1\"],[\"neg\",\"1\"],[\"neu\",\"1\"],[\"pos\",\"1\"],[\"irr\",\"2\"],[\"neg\",\"2\"],[\"neu\",\"2\"],[\"pos\",\"2\"],[\"irr\",\"3\"],[\"neg\",\"3\"],[\"neu\",\"3\"],[\"pos\",\"3\"]]},\"selected\":{\"id\":\"1159\"},\"selection_policy\":{\"id\":\"1180\"}},\"id\":\"1158\",\"type\":\"ColumnDataSource\"},{\"attributes\":{\"axis\":{\"id\":\"1140\"},\"coordinates\":null,\"dimension\":1,\"grid_line_color\":null,\"group\":null,\"ticker\":null},\"id\":\"1143\",\"type\":\"Grid\"},{\"attributes\":{},\"id\":\"1159\",\"type\":\"Selection\"},{\"attributes\":{\"margin\":[5,5,5,5],\"name\":\"HSpacer01781\",\"sizing_mode\":\"stretch_width\"},\"id\":\"1124\",\"type\":\"Spacer\"},{\"attributes\":{},\"id\":\"1145\",\"type\":\"PanTool\"},{\"attributes\":{},\"id\":\"1180\",\"type\":\"UnionRenderers\"},{\"attributes\":{},\"id\":\"1146\",\"type\":\"WheelZoomTool\"},{\"attributes\":{},\"id\":\"1171\",\"type\":\"BasicTickFormatter\"},{\"attributes\":{\"end\":562.9,\"reset_end\":562.9,\"reset_start\":0.0,\"tags\":[[[\"ID\",\"ID\",null]]]},\"id\":\"1126\",\"type\":\"Range1d\"},{\"attributes\":{},\"id\":\"1169\",\"type\":\"AllLabels\"},{\"attributes\":{},\"id\":\"1144\",\"type\":\"SaveTool\"},{\"attributes\":{\"bottom\":{\"value\":0},\"fill_alpha\":{\"value\":1.0},\"fill_color\":{\"field\":\"Company\",\"transform\":{\"id\":\"1157\"}},\"hatch_alpha\":{\"value\":1.0},\"hatch_color\":{\"field\":\"Company\",\"transform\":{\"id\":\"1157\"}},\"hatch_scale\":{\"value\":12.0},\"hatch_weight\":{\"value\":1.0},\"line_alpha\":{\"value\":1.0},\"line_cap\":{\"value\":\"butt\"},\"line_color\":{\"value\":\"black\"},\"line_dash\":{\"value\":[]},\"line_dash_offset\":{\"value\":0},\"line_join\":{\"value\":\"bevel\"},\"line_width\":{\"value\":1},\"top\":{\"field\":\"ID\"},\"width\":{\"value\":0.8},\"x\":{\"field\":\"xoffsets\"}},\"id\":\"1166\",\"type\":\"VBar\"},{\"attributes\":{\"factors\":[[\"irr\",\"0\"],[\"irr\",\"1\"],[\"irr\",\"2\"],[\"irr\",\"3\"],[\"neg\",\"0\"],[\"neg\",\"1\"],[\"neg\",\"2\"],[\"neg\",\"3\"],[\"neu\",\"0\"],[\"neu\",\"1\"],[\"neu\",\"2\"],[\"neu\",\"3\"],[\"pos\",\"0\"],[\"pos\",\"1\"],[\"pos\",\"2\"],[\"pos\",\"3\"]],\"tags\":[[[\"feeling_detected\",\"feeling_detected\",null],[\"Company\",\"Company\",null]]]},\"id\":\"1125\",\"type\":\"FactorRange\"},{\"attributes\":{\"coordinates\":null,\"data_source\":{\"id\":\"1158\"},\"glyph\":{\"id\":\"1161\"},\"group\":null,\"hover_glyph\":null,\"muted_glyph\":{\"id\":\"1163\"},\"nonselection_glyph\":{\"id\":\"1162\"},\"selection_glyph\":{\"id\":\"1166\"},\"view\":{\"id\":\"1165\"}},\"id\":\"1164\",\"type\":\"GlyphRenderer\"},{\"attributes\":{},\"id\":\"1168\",\"type\":\"CategoricalTickFormatter\"},{\"attributes\":{\"fill_alpha\":{\"value\":0.2},\"fill_color\":{\"field\":\"Company\",\"transform\":{\"id\":\"1157\"}},\"hatch_alpha\":{\"value\":0.2},\"hatch_color\":{\"field\":\"Company\",\"transform\":{\"id\":\"1157\"}},\"line_alpha\":{\"value\":0.2},\"top\":{\"field\":\"ID\"},\"width\":{\"value\":0.8},\"x\":{\"field\":\"xoffsets\"}},\"id\":\"1163\",\"type\":\"VBar\"},{\"attributes\":{},\"id\":\"1172\",\"type\":\"AllLabels\"},{\"attributes\":{\"below\":[{\"id\":\"1137\"}],\"center\":[{\"id\":\"1139\"},{\"id\":\"1143\"}],\"height\":400,\"left\":[{\"id\":\"1140\"}],\"margin\":[5,5,5,5],\"min_border_bottom\":10,\"min_border_left\":10,\"min_border_right\":10,\"min_border_top\":10,\"renderers\":[{\"id\":\"1164\"}],\"sizing_mode\":\"fixed\",\"title\":{\"id\":\"1129\"},\"toolbar\":{\"id\":\"1150\"},\"width\":900,\"x_range\":{\"id\":\"1125\"},\"x_scale\":{\"id\":\"1133\"},\"y_range\":{\"id\":\"1126\"},\"y_scale\":{\"id\":\"1135\"}},\"id\":\"1128\",\"subtype\":\"Figure\",\"type\":\"Plot\"},{\"attributes\":{\"fill_alpha\":{\"value\":0.1},\"fill_color\":{\"field\":\"Company\",\"transform\":{\"id\":\"1157\"}},\"hatch_alpha\":{\"value\":0.1},\"hatch_color\":{\"field\":\"Company\",\"transform\":{\"id\":\"1157\"}},\"line_alpha\":{\"value\":0.1},\"top\":{\"field\":\"ID\"},\"width\":{\"value\":0.8},\"x\":{\"field\":\"xoffsets\"}},\"id\":\"1162\",\"type\":\"VBar\"},{\"attributes\":{\"children\":[{\"id\":\"1124\"},{\"id\":\"1128\"},{\"id\":\"1193\"}],\"margin\":[0,0,0,0],\"name\":\"Row01777\",\"tags\":[\"embedded\"]},\"id\":\"1123\",\"type\":\"Row\"},{\"attributes\":{\"fill_color\":{\"field\":\"Company\",\"transform\":{\"id\":\"1157\"}},\"hatch_color\":{\"field\":\"Company\",\"transform\":{\"id\":\"1157\"}},\"top\":{\"field\":\"ID\"},\"width\":{\"value\":0.8},\"x\":{\"field\":\"xoffsets\"}},\"id\":\"1161\",\"type\":\"VBar\"},{\"attributes\":{\"overlay\":{\"id\":\"1149\"}},\"id\":\"1147\",\"type\":\"BoxZoomTool\"},{\"attributes\":{\"source\":{\"id\":\"1158\"}},\"id\":\"1165\",\"type\":\"CDSView\"},{\"attributes\":{},\"id\":\"1148\",\"type\":\"ResetTool\"}],\"root_ids\":[\"1123\"]},\"title\":\"Bokeh Application\",\"version\":\"2.4.0\"}};\n",
       "    var render_items = [{\"docid\":\"e694fa7d-e32b-404e-82a4-1f2c6cb3528b\",\"root_ids\":[\"1123\"],\"roots\":{\"1123\":\"309dc0ec-d25e-4236-b747-0e5bb8043680\"}}];\n",
       "    root.Bokeh.embed.embed_items_notebook(docs_json, render_items);\n",
       "  }\n",
       "  if (root.Bokeh !== undefined && root.Bokeh.Panel !== undefined) {\n",
       "    embed_document(root);\n",
       "  } else {\n",
       "    var attempts = 0;\n",
       "    var timer = setInterval(function(root) {\n",
       "      if (root.Bokeh !== undefined && root.Bokeh.Panel !== undefined) {\n",
       "        clearInterval(timer);\n",
       "        embed_document(root);\n",
       "      } else if (document.readyState == \"complete\") {\n",
       "        attempts++;\n",
       "        if (attempts > 200) {\n",
       "          clearInterval(timer);\n",
       "          console.log(\"Bokeh: ERROR: Unable to run BokehJS code because BokehJS library is missing\");\n",
       "        }\n",
       "      }\n",
       "    }, 25, root)\n",
       "  }\n",
       "})(window);</script>"
      ],
      "text/plain": [
       ":Bars   [feeling_detected,Company]   (ID)"
      ]
     },
     "execution_count": 181,
     "metadata": {
      "application/vnd.holoviews_exec.v0+json": {
       "id": "1123"
      }
     },
     "output_type": "execute_result"
    }
   ],
   "source": [
    "# Distribution des Label  par company : \n",
    "df_label_by_company = df.groupby(['feeling_detected', 'Company'])['ID'].count()\n",
    "df_label_by_company.hvplot.bar( height= 400 , width= 900) "
   ]
  },
  {
   "cell_type": "code",
   "execution_count": 182,
   "metadata": {},
   "outputs": [
    {
     "data": {},
     "metadata": {},
     "output_type": "display_data"
    },
    {
     "data": {
      "application/vnd.holoviews_exec.v0+json": "",
      "text/html": [
       "<div id='1245'>\n",
       "\n",
       "\n",
       "\n",
       "\n",
       "\n",
       "  <div class=\"bk-root\" id=\"e165dc30-b3cd-4ae1-82ab-e0a3e9ea6aae\" data-root-id=\"1245\"></div>\n",
       "</div>\n",
       "<script type=\"application/javascript\">(function(root) {\n",
       "  function embed_document(root) {\n",
       "    var docs_json = {\"f511da5d-bc1e-46e4-83fa-90960de1f005\":{\"defs\":[{\"extends\":null,\"module\":null,\"name\":\"ReactiveHTML1\",\"overrides\":[],\"properties\":[]},{\"extends\":null,\"module\":null,\"name\":\"FlexBox1\",\"overrides\":[],\"properties\":[{\"default\":\"flex-start\",\"kind\":null,\"name\":\"align_content\"},{\"default\":\"flex-start\",\"kind\":null,\"name\":\"align_items\"},{\"default\":\"row\",\"kind\":null,\"name\":\"flex_direction\"},{\"default\":\"wrap\",\"kind\":null,\"name\":\"flex_wrap\"},{\"default\":\"flex-start\",\"kind\":null,\"name\":\"justify_content\"}]},{\"extends\":null,\"module\":null,\"name\":\"TemplateActions1\",\"overrides\":[],\"properties\":[{\"default\":0,\"kind\":null,\"name\":\"open_modal\"},{\"default\":0,\"kind\":null,\"name\":\"close_modal\"}]},{\"extends\":null,\"module\":null,\"name\":\"MaterialTemplateActions1\",\"overrides\":[],\"properties\":[{\"default\":0,\"kind\":null,\"name\":\"open_modal\"},{\"default\":0,\"kind\":null,\"name\":\"close_modal\"}]}],\"roots\":{\"references\":[{\"attributes\":{\"bottom\":{\"value\":0},\"fill_alpha\":{\"value\":1.0},\"fill_color\":{\"value\":\"#30a2da\"},\"hatch_alpha\":{\"value\":1.0},\"hatch_color\":{\"value\":\"#30a2da\"},\"hatch_scale\":{\"value\":12.0},\"hatch_weight\":{\"value\":1.0},\"line_alpha\":{\"value\":1.0},\"line_cap\":{\"value\":\"butt\"},\"line_color\":{\"value\":\"black\"},\"line_dash\":{\"value\":[]},\"line_dash_offset\":{\"value\":0},\"line_join\":{\"value\":\"bevel\"},\"line_width\":{\"value\":1},\"top\":{\"field\":\"tweet_text_length\"},\"width\":{\"value\":0.8},\"x\":{\"field\":\"feeling_detected\"}},\"id\":\"1287\",\"type\":\"VBar\"},{\"attributes\":{\"coordinates\":null,\"group\":null,\"text\":\"tweet_text_length\",\"text_color\":\"black\",\"text_font_size\":\"12pt\"},\"id\":\"1251\",\"type\":\"Title\"},{\"attributes\":{},\"id\":\"1289\",\"type\":\"CategoricalTickFormatter\"},{\"attributes\":{\"margin\":[5,5,5,5],\"name\":\"HSpacer01991\",\"sizing_mode\":\"stretch_width\"},\"id\":\"1314\",\"type\":\"Spacer\"},{\"attributes\":{\"callback\":null,\"renderers\":[{\"id\":\"1285\"}],\"tags\":[\"hv_created\"],\"tooltips\":[[\"feeling_detected\",\"@{feeling_detected}\"],[\"tweet_text_length\",\"@{tweet_text_length}\"]]},\"id\":\"1249\",\"type\":\"HoverTool\"},{\"attributes\":{},\"id\":\"1280\",\"type\":\"Selection\"},{\"attributes\":{\"axis\":{\"id\":\"1259\"},\"coordinates\":null,\"grid_line_color\":null,\"group\":null,\"ticker\":null},\"id\":\"1261\",\"type\":\"Grid\"},{\"attributes\":{},\"id\":\"1268\",\"type\":\"WheelZoomTool\"},{\"attributes\":{},\"id\":\"1292\",\"type\":\"BasicTickFormatter\"},{\"attributes\":{},\"id\":\"1267\",\"type\":\"PanTool\"},{\"attributes\":{\"end\":17.00170208605534,\"reset_end\":17.00170208605534,\"reset_start\":0.0,\"tags\":[[[\"tweet_text_length\",\"tweet_text_length\",null]]]},\"id\":\"1248\",\"type\":\"Range1d\"},{\"attributes\":{},\"id\":\"1270\",\"type\":\"ResetTool\"},{\"attributes\":{\"coordinates\":null,\"data_source\":{\"id\":\"1279\"},\"glyph\":{\"id\":\"1282\"},\"group\":null,\"hover_glyph\":null,\"muted_glyph\":{\"id\":\"1284\"},\"nonselection_glyph\":{\"id\":\"1283\"},\"selection_glyph\":{\"id\":\"1287\"},\"view\":{\"id\":\"1286\"}},\"id\":\"1285\",\"type\":\"GlyphRenderer\"},{\"attributes\":{\"fill_color\":{\"value\":\"#30a2da\"},\"hatch_color\":{\"value\":\"#30a2da\"},\"top\":{\"field\":\"tweet_text_length\"},\"width\":{\"value\":0.8},\"x\":{\"field\":\"feeling_detected\"}},\"id\":\"1282\",\"type\":\"VBar\"},{\"attributes\":{},\"id\":\"1290\",\"type\":\"AllLabels\"},{\"attributes\":{\"margin\":[5,5,5,5],\"name\":\"HSpacer01990\",\"sizing_mode\":\"stretch_width\"},\"id\":\"1246\",\"type\":\"Spacer\"},{\"attributes\":{},\"id\":\"1266\",\"type\":\"SaveTool\"},{\"attributes\":{\"axis_label\":\"\",\"coordinates\":null,\"formatter\":{\"id\":\"1292\"},\"group\":null,\"major_label_policy\":{\"id\":\"1293\"},\"ticker\":{\"id\":\"1263\"}},\"id\":\"1262\",\"type\":\"LinearAxis\"},{\"attributes\":{},\"id\":\"1260\",\"type\":\"CategoricalTicker\"},{\"attributes\":{\"children\":[{\"id\":\"1246\"},{\"id\":\"1250\"},{\"id\":\"1314\"}],\"margin\":[0,0,0,0],\"name\":\"Row01986\",\"tags\":[\"embedded\"]},\"id\":\"1245\",\"type\":\"Row\"},{\"attributes\":{\"fill_alpha\":{\"value\":0.2},\"fill_color\":{\"value\":\"#30a2da\"},\"hatch_alpha\":{\"value\":0.2},\"hatch_color\":{\"value\":\"#30a2da\"},\"line_alpha\":{\"value\":0.2},\"top\":{\"field\":\"tweet_text_length\"},\"width\":{\"value\":0.8},\"x\":{\"field\":\"feeling_detected\"}},\"id\":\"1284\",\"type\":\"VBar\"},{\"attributes\":{},\"id\":\"1263\",\"type\":\"BasicTicker\"},{\"attributes\":{\"data\":{\"feeling_detected\":[\"irr\",\"neg\",\"neu\",\"pos\"],\"tweet_text_length\":{\"__ndarray__\":\"U0dRA+agK0ArjR5RQbYwQJRnhX/kZixAGYVm/wLxLEA=\",\"dtype\":\"float64\",\"order\":\"little\",\"shape\":[4]}},\"selected\":{\"id\":\"1280\"},\"selection_policy\":{\"id\":\"1301\"}},\"id\":\"1279\",\"type\":\"ColumnDataSource\"},{\"attributes\":{\"tools\":[{\"id\":\"1249\"},{\"id\":\"1266\"},{\"id\":\"1267\"},{\"id\":\"1268\"},{\"id\":\"1269\"},{\"id\":\"1270\"}]},\"id\":\"1272\",\"type\":\"Toolbar\"},{\"attributes\":{\"fill_alpha\":{\"value\":0.1},\"fill_color\":{\"value\":\"#30a2da\"},\"hatch_alpha\":{\"value\":0.1},\"hatch_color\":{\"value\":\"#30a2da\"},\"line_alpha\":{\"value\":0.1},\"top\":{\"field\":\"tweet_text_length\"},\"width\":{\"value\":0.8},\"x\":{\"field\":\"feeling_detected\"}},\"id\":\"1283\",\"type\":\"VBar\"},{\"attributes\":{\"source\":{\"id\":\"1279\"}},\"id\":\"1286\",\"type\":\"CDSView\"},{\"attributes\":{\"below\":[{\"id\":\"1259\"}],\"center\":[{\"id\":\"1261\"},{\"id\":\"1265\"}],\"height\":400,\"left\":[{\"id\":\"1262\"}],\"margin\":[5,5,5,5],\"min_border_bottom\":10,\"min_border_left\":10,\"min_border_right\":10,\"min_border_top\":10,\"renderers\":[{\"id\":\"1285\"}],\"sizing_mode\":\"fixed\",\"title\":{\"id\":\"1251\"},\"toolbar\":{\"id\":\"1272\"},\"width\":900,\"x_range\":{\"id\":\"1247\"},\"x_scale\":{\"id\":\"1255\"},\"y_range\":{\"id\":\"1248\"},\"y_scale\":{\"id\":\"1257\"}},\"id\":\"1250\",\"subtype\":\"Figure\",\"type\":\"Plot\"},{\"attributes\":{\"factors\":[\"irr\",\"neg\",\"neu\",\"pos\"],\"tags\":[[[\"feeling_detected\",\"feeling_detected\",null]]]},\"id\":\"1247\",\"type\":\"FactorRange\"},{\"attributes\":{},\"id\":\"1293\",\"type\":\"AllLabels\"},{\"attributes\":{},\"id\":\"1255\",\"type\":\"CategoricalScale\"},{\"attributes\":{},\"id\":\"1301\",\"type\":\"UnionRenderers\"},{\"attributes\":{\"bottom_units\":\"screen\",\"coordinates\":null,\"fill_alpha\":0.5,\"fill_color\":\"lightgrey\",\"group\":null,\"left_units\":\"screen\",\"level\":\"overlay\",\"line_alpha\":1.0,\"line_color\":\"black\",\"line_dash\":[4,4],\"line_width\":2,\"right_units\":\"screen\",\"syncable\":false,\"top_units\":\"screen\"},\"id\":\"1271\",\"type\":\"BoxAnnotation\"},{\"attributes\":{\"axis_label\":\"feeling_detected\",\"coordinates\":null,\"formatter\":{\"id\":\"1289\"},\"group\":null,\"major_label_policy\":{\"id\":\"1290\"},\"ticker\":{\"id\":\"1260\"}},\"id\":\"1259\",\"type\":\"CategoricalAxis\"},{\"attributes\":{\"axis\":{\"id\":\"1262\"},\"coordinates\":null,\"dimension\":1,\"grid_line_color\":null,\"group\":null,\"ticker\":null},\"id\":\"1265\",\"type\":\"Grid\"},{\"attributes\":{},\"id\":\"1257\",\"type\":\"LinearScale\"},{\"attributes\":{\"overlay\":{\"id\":\"1271\"}},\"id\":\"1269\",\"type\":\"BoxZoomTool\"}],\"root_ids\":[\"1245\"]},\"title\":\"Bokeh Application\",\"version\":\"2.4.0\"}};\n",
       "    var render_items = [{\"docid\":\"f511da5d-bc1e-46e4-83fa-90960de1f005\",\"root_ids\":[\"1245\"],\"roots\":{\"1245\":\"e165dc30-b3cd-4ae1-82ab-e0a3e9ea6aae\"}}];\n",
       "    root.Bokeh.embed.embed_items_notebook(docs_json, render_items);\n",
       "  }\n",
       "  if (root.Bokeh !== undefined && root.Bokeh.Panel !== undefined) {\n",
       "    embed_document(root);\n",
       "  } else {\n",
       "    var attempts = 0;\n",
       "    var timer = setInterval(function(root) {\n",
       "      if (root.Bokeh !== undefined && root.Bokeh.Panel !== undefined) {\n",
       "        clearInterval(timer);\n",
       "        embed_document(root);\n",
       "      } else if (document.readyState == \"complete\") {\n",
       "        attempts++;\n",
       "        if (attempts > 200) {\n",
       "          clearInterval(timer);\n",
       "          console.log(\"Bokeh: ERROR: Unable to run BokehJS code because BokehJS library is missing\");\n",
       "        }\n",
       "      }\n",
       "    }, 25, root)\n",
       "  }\n",
       "})(window);</script>"
      ],
      "text/plain": [
       ":Bars   [feeling_detected]   (tweet_text_length)"
      ]
     },
     "execution_count": 182,
     "metadata": {
      "application/vnd.holoviews_exec.v0+json": {
       "id": "1245"
      }
     },
     "output_type": "execute_result"
    }
   ],
   "source": [
    "### Longeur de tweet en fonction de la company \n",
    "df_size_tweet = df.groupby(['feeling_detected'])['tweet_text_length'].mean()\n",
    "df_size_tweet.hvplot.bar( height= 400 , width= 900) "
   ]
  },
  {
   "cell_type": "code",
   "execution_count": 184,
   "metadata": {},
   "outputs": [
    {
     "data": {},
     "metadata": {},
     "output_type": "display_data"
    },
    {
     "data": {
      "application/vnd.holoviews_exec.v0+json": "",
      "text/html": [
       "<div id='1366'>\n",
       "\n",
       "\n",
       "\n",
       "\n",
       "\n",
       "  <div class=\"bk-root\" id=\"c63ac744-5651-4cf6-9126-968c69522a38\" data-root-id=\"1366\"></div>\n",
       "</div>\n",
       "<script type=\"application/javascript\">(function(root) {\n",
       "  function embed_document(root) {\n",
       "    var docs_json = {\"f6e70c55-37c7-4f73-91be-fa8bae46ea8e\":{\"defs\":[{\"extends\":null,\"module\":null,\"name\":\"ReactiveHTML1\",\"overrides\":[],\"properties\":[]},{\"extends\":null,\"module\":null,\"name\":\"FlexBox1\",\"overrides\":[],\"properties\":[{\"default\":\"flex-start\",\"kind\":null,\"name\":\"align_content\"},{\"default\":\"flex-start\",\"kind\":null,\"name\":\"align_items\"},{\"default\":\"row\",\"kind\":null,\"name\":\"flex_direction\"},{\"default\":\"wrap\",\"kind\":null,\"name\":\"flex_wrap\"},{\"default\":\"flex-start\",\"kind\":null,\"name\":\"justify_content\"}]},{\"extends\":null,\"module\":null,\"name\":\"TemplateActions1\",\"overrides\":[],\"properties\":[{\"default\":0,\"kind\":null,\"name\":\"open_modal\"},{\"default\":0,\"kind\":null,\"name\":\"close_modal\"}]},{\"extends\":null,\"module\":null,\"name\":\"MaterialTemplateActions1\",\"overrides\":[],\"properties\":[{\"default\":0,\"kind\":null,\"name\":\"open_modal\"},{\"default\":0,\"kind\":null,\"name\":\"close_modal\"}]}],\"roots\":{\"references\":[{\"attributes\":{\"fill_alpha\":{\"value\":0.1},\"fill_color\":{\"field\":\"Company\",\"transform\":{\"id\":\"1400\"}},\"hatch_alpha\":{\"value\":0.1},\"hatch_color\":{\"field\":\"Company\",\"transform\":{\"id\":\"1400\"}},\"line_alpha\":{\"value\":0.1},\"top\":{\"field\":\"tweet_text_length\"},\"width\":{\"value\":0.8},\"x\":{\"field\":\"xoffsets\"}},\"id\":\"1405\",\"type\":\"VBar\"},{\"attributes\":{\"fill_color\":{\"field\":\"Company\",\"transform\":{\"id\":\"1400\"}},\"hatch_color\":{\"field\":\"Company\",\"transform\":{\"id\":\"1400\"}},\"top\":{\"field\":\"tweet_text_length\"},\"width\":{\"value\":0.8},\"x\":{\"field\":\"xoffsets\"}},\"id\":\"1404\",\"type\":\"VBar\"},{\"attributes\":{\"children\":[{\"id\":\"1367\"},{\"id\":\"1371\"},{\"id\":\"1436\"}],\"margin\":[0,0,0,0],\"name\":\"Row02137\",\"tags\":[\"embedded\"]},\"id\":\"1366\",\"type\":\"Row\"},{\"attributes\":{},\"id\":\"1402\",\"type\":\"Selection\"},{\"attributes\":{\"callback\":null,\"renderers\":[{\"id\":\"1407\"}],\"tags\":[\"hv_created\"],\"tooltips\":[[\"feeling_detected\",\"@{feeling_detected}\"],[\"Company\",\"@{Company}\"],[\"tweet_text_length\",\"@{tweet_text_length}\"]]},\"id\":\"1370\",\"type\":\"HoverTool\"},{\"attributes\":{\"end\":19.049063670411986,\"reset_end\":19.049063670411986,\"reset_start\":0.0,\"tags\":[[[\"tweet_text_length\",\"tweet_text_length\",null]]]},\"id\":\"1369\",\"type\":\"Range1d\"},{\"attributes\":{\"margin\":[5,5,5,5],\"name\":\"HSpacer02142\",\"sizing_mode\":\"stretch_width\"},\"id\":\"1436\",\"type\":\"Spacer\"},{\"attributes\":{},\"id\":\"1387\",\"type\":\"SaveTool\"},{\"attributes\":{\"coordinates\":null,\"group\":null,\"text\":\"tweet_text_length\",\"text_color\":\"black\",\"text_font_size\":\"12pt\"},\"id\":\"1372\",\"type\":\"Title\"},{\"attributes\":{},\"id\":\"1411\",\"type\":\"CategoricalTickFormatter\"},{\"attributes\":{\"fill_alpha\":{\"value\":0.2},\"fill_color\":{\"field\":\"Company\",\"transform\":{\"id\":\"1400\"}},\"hatch_alpha\":{\"value\":0.2},\"hatch_color\":{\"field\":\"Company\",\"transform\":{\"id\":\"1400\"}},\"line_alpha\":{\"value\":0.2},\"top\":{\"field\":\"tweet_text_length\"},\"width\":{\"value\":0.8},\"x\":{\"field\":\"xoffsets\"}},\"id\":\"1406\",\"type\":\"VBar\"},{\"attributes\":{},\"id\":\"1415\",\"type\":\"AllLabels\"},{\"attributes\":{\"bottom_units\":\"screen\",\"coordinates\":null,\"fill_alpha\":0.5,\"fill_color\":\"lightgrey\",\"group\":null,\"left_units\":\"screen\",\"level\":\"overlay\",\"line_alpha\":1.0,\"line_color\":\"black\",\"line_dash\":[4,4],\"line_width\":2,\"right_units\":\"screen\",\"syncable\":false,\"top_units\":\"screen\"},\"id\":\"1392\",\"type\":\"BoxAnnotation\"},{\"attributes\":{},\"id\":\"1388\",\"type\":\"PanTool\"},{\"attributes\":{\"below\":[{\"id\":\"1380\"}],\"center\":[{\"id\":\"1382\"},{\"id\":\"1386\"}],\"height\":400,\"left\":[{\"id\":\"1383\"}],\"margin\":[5,5,5,5],\"min_border_bottom\":10,\"min_border_left\":10,\"min_border_right\":10,\"min_border_top\":10,\"renderers\":[{\"id\":\"1407\"}],\"sizing_mode\":\"fixed\",\"title\":{\"id\":\"1372\"},\"toolbar\":{\"id\":\"1393\"},\"width\":900,\"x_range\":{\"id\":\"1368\"},\"x_scale\":{\"id\":\"1376\"},\"y_range\":{\"id\":\"1369\"},\"y_scale\":{\"id\":\"1378\"}},\"id\":\"1371\",\"subtype\":\"Figure\",\"type\":\"Plot\"},{\"attributes\":{},\"id\":\"1376\",\"type\":\"CategoricalScale\"},{\"attributes\":{\"margin\":[5,5,5,5],\"name\":\"HSpacer02141\",\"sizing_mode\":\"stretch_width\"},\"id\":\"1367\",\"type\":\"Spacer\"},{\"attributes\":{},\"id\":\"1389\",\"type\":\"WheelZoomTool\"},{\"attributes\":{},\"id\":\"1378\",\"type\":\"LinearScale\"},{\"attributes\":{\"overlay\":{\"id\":\"1392\"}},\"id\":\"1390\",\"type\":\"BoxZoomTool\"},{\"attributes\":{},\"id\":\"1391\",\"type\":\"ResetTool\"},{\"attributes\":{\"axis_label\":\"feeling_detected, Company\",\"coordinates\":null,\"formatter\":{\"id\":\"1411\"},\"group\":null,\"major_label_policy\":{\"id\":\"1412\"},\"ticker\":{\"id\":\"1381\"}},\"id\":\"1380\",\"type\":\"CategoricalAxis\"},{\"attributes\":{\"bottom\":{\"value\":0},\"fill_alpha\":{\"value\":1.0},\"fill_color\":{\"field\":\"Company\",\"transform\":{\"id\":\"1400\"}},\"hatch_alpha\":{\"value\":1.0},\"hatch_color\":{\"field\":\"Company\",\"transform\":{\"id\":\"1400\"}},\"hatch_scale\":{\"value\":12.0},\"hatch_weight\":{\"value\":1.0},\"line_alpha\":{\"value\":1.0},\"line_cap\":{\"value\":\"butt\"},\"line_color\":{\"value\":\"black\"},\"line_dash\":{\"value\":[]},\"line_dash_offset\":{\"value\":0},\"line_join\":{\"value\":\"bevel\"},\"line_width\":{\"value\":1},\"top\":{\"field\":\"tweet_text_length\"},\"width\":{\"value\":0.8},\"x\":{\"field\":\"xoffsets\"}},\"id\":\"1409\",\"type\":\"VBar\"},{\"attributes\":{},\"id\":\"1381\",\"type\":\"CategoricalTicker\"},{\"attributes\":{\"tools\":[{\"id\":\"1370\"},{\"id\":\"1387\"},{\"id\":\"1388\"},{\"id\":\"1389\"},{\"id\":\"1390\"},{\"id\":\"1391\"}]},\"id\":\"1393\",\"type\":\"Toolbar\"},{\"attributes\":{\"data\":{\"Company\":[\"0\",\"0\",\"0\",\"0\",\"1\",\"1\",\"1\",\"1\",\"2\",\"2\",\"2\",\"2\",\"3\",\"3\",\"3\",\"3\"],\"feeling_detected\":[\"irr\",\"neg\",\"neu\",\"pos\",\"irr\",\"neg\",\"neu\",\"pos\",\"irr\",\"neg\",\"neu\",\"pos\",\"irr\",\"neg\",\"neu\",\"pos\"],\"tweet_text_length\":{\"__ndarray__\":\"zczMzMzMLECXCaJlgmgyQHy+MW0CSjBA8RVf8RXfLkCjd0XmSxMrQHg26jsb9StALdACLdACK0C987c4rdksQFOeiIo3mSxAWjeYIp91L0AuaUvakjYtQBUqVKhQoSxA82Y1b1bzKkCwjjbvU1wqQCXzsyjGKSlAAAAAAAAAKEA=\",\"dtype\":\"float64\",\"order\":\"little\",\"shape\":[16]},\"xoffsets\":[[\"irr\",\"0\"],[\"neg\",\"0\"],[\"neu\",\"0\"],[\"pos\",\"0\"],[\"irr\",\"1\"],[\"neg\",\"1\"],[\"neu\",\"1\"],[\"pos\",\"1\"],[\"irr\",\"2\"],[\"neg\",\"2\"],[\"neu\",\"2\"],[\"pos\",\"2\"],[\"irr\",\"3\"],[\"neg\",\"3\"],[\"neu\",\"3\"],[\"pos\",\"3\"]]},\"selected\":{\"id\":\"1402\"},\"selection_policy\":{\"id\":\"1423\"}},\"id\":\"1401\",\"type\":\"ColumnDataSource\"},{\"attributes\":{},\"id\":\"1414\",\"type\":\"BasicTickFormatter\"},{\"attributes\":{\"factors\":[\"0\",\"1\",\"2\",\"3\"],\"palette\":[\"#30a2da\",\"#fc4f30\",\"#e5ae38\",\"#6d904f\"]},\"id\":\"1400\",\"type\":\"CategoricalColorMapper\"},{\"attributes\":{\"axis\":{\"id\":\"1383\"},\"coordinates\":null,\"dimension\":1,\"grid_line_color\":null,\"group\":null,\"ticker\":null},\"id\":\"1386\",\"type\":\"Grid\"},{\"attributes\":{\"source\":{\"id\":\"1401\"}},\"id\":\"1408\",\"type\":\"CDSView\"},{\"attributes\":{},\"id\":\"1412\",\"type\":\"AllLabels\"},{\"attributes\":{\"coordinates\":null,\"data_source\":{\"id\":\"1401\"},\"glyph\":{\"id\":\"1404\"},\"group\":null,\"hover_glyph\":null,\"muted_glyph\":{\"id\":\"1406\"},\"nonselection_glyph\":{\"id\":\"1405\"},\"selection_glyph\":{\"id\":\"1409\"},\"view\":{\"id\":\"1408\"}},\"id\":\"1407\",\"type\":\"GlyphRenderer\"},{\"attributes\":{},\"id\":\"1384\",\"type\":\"BasicTicker\"},{\"attributes\":{\"axis\":{\"id\":\"1380\"},\"coordinates\":null,\"grid_line_color\":null,\"group\":null,\"ticker\":null},\"id\":\"1382\",\"type\":\"Grid\"},{\"attributes\":{},\"id\":\"1423\",\"type\":\"UnionRenderers\"},{\"attributes\":{\"factors\":[[\"irr\",\"0\"],[\"irr\",\"1\"],[\"irr\",\"2\"],[\"irr\",\"3\"],[\"neg\",\"0\"],[\"neg\",\"1\"],[\"neg\",\"2\"],[\"neg\",\"3\"],[\"neu\",\"0\"],[\"neu\",\"1\"],[\"neu\",\"2\"],[\"neu\",\"3\"],[\"pos\",\"0\"],[\"pos\",\"1\"],[\"pos\",\"2\"],[\"pos\",\"3\"]],\"tags\":[[[\"feeling_detected\",\"feeling_detected\",null],[\"Company\",\"Company\",null]]]},\"id\":\"1368\",\"type\":\"FactorRange\"},{\"attributes\":{\"axis_label\":\"\",\"coordinates\":null,\"formatter\":{\"id\":\"1414\"},\"group\":null,\"major_label_policy\":{\"id\":\"1415\"},\"ticker\":{\"id\":\"1384\"}},\"id\":\"1383\",\"type\":\"LinearAxis\"}],\"root_ids\":[\"1366\"]},\"title\":\"Bokeh Application\",\"version\":\"2.4.0\"}};\n",
       "    var render_items = [{\"docid\":\"f6e70c55-37c7-4f73-91be-fa8bae46ea8e\",\"root_ids\":[\"1366\"],\"roots\":{\"1366\":\"c63ac744-5651-4cf6-9126-968c69522a38\"}}];\n",
       "    root.Bokeh.embed.embed_items_notebook(docs_json, render_items);\n",
       "  }\n",
       "  if (root.Bokeh !== undefined && root.Bokeh.Panel !== undefined) {\n",
       "    embed_document(root);\n",
       "  } else {\n",
       "    var attempts = 0;\n",
       "    var timer = setInterval(function(root) {\n",
       "      if (root.Bokeh !== undefined && root.Bokeh.Panel !== undefined) {\n",
       "        clearInterval(timer);\n",
       "        embed_document(root);\n",
       "      } else if (document.readyState == \"complete\") {\n",
       "        attempts++;\n",
       "        if (attempts > 200) {\n",
       "          clearInterval(timer);\n",
       "          console.log(\"Bokeh: ERROR: Unable to run BokehJS code because BokehJS library is missing\");\n",
       "        }\n",
       "      }\n",
       "    }, 25, root)\n",
       "  }\n",
       "})(window);</script>"
      ],
      "text/plain": [
       ":Bars   [feeling_detected,Company]   (tweet_text_length)"
      ]
     },
     "execution_count": 184,
     "metadata": {
      "application/vnd.holoviews_exec.v0+json": {
       "id": "1366"
      }
     },
     "output_type": "execute_result"
    }
   ],
   "source": [
    "df_size_tweet_company = df.groupby(['feeling_detected', 'Company'])['tweet_text_length'].mean()\n",
    "df_size_tweet_company.hvplot.bar( height= 400 , width= 900) "
   ]
  },
  {
   "cell_type": "code",
   "execution_count": 185,
   "metadata": {},
   "outputs": [],
   "source": [
    "def nuage_de_mots (df) : \n",
    "    comment_words = \"\"\n",
    "    stopwords = set(STOPWORDS) \n",
    "    my_text = df['Tweet_text'] \n",
    "    for text in my_text : \n",
    "        tokens = text.split()\n",
    "        for i in range(len(tokens)): \n",
    "            tokens[i] = tokens[i].lower() \n",
    "        comment_words += \" \".join(tokens)+\" \"\n",
    "    wordcloud = WordCloud(width = 1600, height = 1000, \n",
    "                background_color ='black', \n",
    "                stopwords = stopwords, \n",
    "                min_font_size = 10).generate(comment_words) \n",
    "        \n",
    "    return wordcloud\n"
   ]
  },
  {
   "cell_type": "code",
   "execution_count": 186,
   "metadata": {},
   "outputs": [
    {
     "ename": "NameError",
     "evalue": "name 'plt' is not defined",
     "output_type": "error",
     "traceback": [
      "\u001b[0;31m---------------------------------------------------------------------------\u001b[0m",
      "\u001b[0;31mNameError\u001b[0m                                 Traceback (most recent call last)",
      "\u001b[0;32m/var/tmp/ipykernel_4455/2787180659.py\u001b[0m in \u001b[0;36m<module>\u001b[0;34m\u001b[0m\n\u001b[1;32m      1\u001b[0m \u001b[0;31m#fig, axs = plt\u001b[0m\u001b[0;34m\u001b[0m\u001b[0;34m\u001b[0m\u001b[0;34m\u001b[0m\u001b[0m\n\u001b[0;32m----> 2\u001b[0;31m \u001b[0maxs\u001b[0m \u001b[0;34m=\u001b[0m \u001b[0mplt\u001b[0m\u001b[0;34m.\u001b[0m\u001b[0mfigure\u001b[0m\u001b[0;34m(\u001b[0m\u001b[0mfigsize\u001b[0m\u001b[0;34m=\u001b[0m\u001b[0;34m(\u001b[0m\u001b[0;36m16\u001b[0m\u001b[0;34m,\u001b[0m \u001b[0;36m10\u001b[0m\u001b[0;34m)\u001b[0m\u001b[0;34m)\u001b[0m\u001b[0;34m.\u001b[0m\u001b[0msubplots\u001b[0m\u001b[0;34m(\u001b[0m\u001b[0;36m2\u001b[0m\u001b[0;34m,\u001b[0m \u001b[0;36m2\u001b[0m\u001b[0;34m)\u001b[0m\u001b[0;34m\u001b[0m\u001b[0;34m\u001b[0m\u001b[0m\n\u001b[0m\u001b[1;32m      3\u001b[0m \u001b[0;31m# Apple :\u001b[0m\u001b[0;34m\u001b[0m\u001b[0;34m\u001b[0m\u001b[0;34m\u001b[0m\u001b[0m\n\u001b[1;32m      4\u001b[0m \u001b[0mdf_to_draw\u001b[0m \u001b[0;34m=\u001b[0m \u001b[0mdf\u001b[0m\u001b[0;34m[\u001b[0m\u001b[0mdf\u001b[0m\u001b[0;34m[\u001b[0m\u001b[0;34m'Company'\u001b[0m\u001b[0;34m]\u001b[0m \u001b[0;34m==\u001b[0m \u001b[0;34m\"apl\"\u001b[0m\u001b[0;34m]\u001b[0m\u001b[0;34m\u001b[0m\u001b[0;34m\u001b[0m\u001b[0m\n\u001b[1;32m      5\u001b[0m \u001b[0mnuage_word_all\u001b[0m \u001b[0;34m=\u001b[0m \u001b[0mnuage_de_mots\u001b[0m \u001b[0;34m(\u001b[0m\u001b[0mdf_to_draw\u001b[0m\u001b[0;34m)\u001b[0m\u001b[0;34m\u001b[0m\u001b[0;34m\u001b[0m\u001b[0m\n",
      "\u001b[0;31mNameError\u001b[0m: name 'plt' is not defined"
     ]
    }
   ],
   "source": [
    "#fig, axs = plt\n",
    "axs = plt.figure(figsize=(16, 10)).subplots(2, 2)\n",
    "# Apple : \n",
    "df_to_draw = df[df['Company'] == \"apl\"]\n",
    "nuage_word_all = nuage_de_mots (df_to_draw)\n",
    "axs[0][0].imshow(nuage_word_all, label = \"neu\") \n",
    "axs[0][0].axis(\"off\") \n",
    "\n",
    "# GOOGLE : \n",
    "df_to_draw = df[df['Company'] == \"msf\"]\n",
    "nuage_word_all = nuage_de_mots (df_to_draw)\n",
    "axs[0][1].imshow(nuage_word_all, label = \"neg\") \n",
    "axs[0][1].axis(\"off\") \n",
    "\n",
    "# Tweeter : \n",
    "df_to_draw = df[df['Company'] == \"ggl\"]\n",
    "nuage_word_all = nuage_de_mots (df_to_draw)\n",
    "axs[1][1].imshow(nuage_word_all, label = \"pos\") \n",
    "axs[1][1].axis(\"off\") \n",
    "\n",
    "# Tweeter : \n",
    "df_to_draw = df[df['Company'] == \"twt\"]\n",
    "nuage_word_all = nuage_de_mots (df_to_draw)\n",
    "axs[1][0].imshow(nuage_word_all, label = \"irr\") \n",
    "axs[1][0].axis(\"off\") \n"
   ]
  },
  {
   "cell_type": "markdown",
   "metadata": {},
   "source": [
    "## Nettoyage des données "
   ]
  },
  {
   "cell_type": "code",
   "execution_count": 179,
   "metadata": {},
   "outputs": [],
   "source": [
    "# Encoder la colonne \"Company\" pour qu'elle soit consommable par le model scikitlearn \n",
    "le = preprocessing.LabelEncoder()\n",
    "df['Company'] =le.fit_transform(df['Company'])"
   ]
  },
  {
   "cell_type": "code",
   "execution_count": 11,
   "metadata": {},
   "outputs": [],
   "source": [
    "## Fonction pour traiter les imojis \n",
    "def processing_Imoji (new_string) : \n",
    "        # les imojis \n",
    "    new_string = re.sub(\"[:;]-?[)}DP]\" , \"happy\", new_string)\n",
    "    new_string = re.sub(\":\\)\" , \" happy \" , new_string)\n",
    "    new_string = re.sub(\"😝\" , \" happy \" , new_string)\n",
    "    new_string = re.sub(\"😉\" , \" happy \" , new_string)\n",
    "    new_string = re.sub(\"😂\" , \" happy \" , new_string)\n",
    "    new_string = re.sub(\"😁\" , \" happy \" , new_string)\n",
    "    new_string = re.sub(\"♥\" , \" happy \" , new_string)\n",
    "    new_string = re.sub(\":D\" , \" happy \" , new_string)\n",
    "    new_string = re.sub(\"&lt;3\" , \" happy \" , new_string)\n",
    "    new_string = re.sub(\":O\" , \" shocked \" , new_string)\n",
    "    new_string = re.sub(\":S\" , \" sad \" , new_string)\n",
    "    new_string = re.sub(\":,\\)\" , \" sad \", new_string)\n",
    "    new_string = re.sub(\": @\" ,  \" sad \", new_string)\n",
    "    new_string = re.sub(\":」\" , \" sad \"  , new_string)\n",
    "    new_string = re.sub(\"=\\)\" , \" sad \", new_string)\n",
    "    return new_string"
   ]
  },
  {
   "cell_type": "code",
   "execution_count": 12,
   "metadata": {},
   "outputs": [],
   "source": [
    "## Fonction pour traiter la ponctuation \n",
    "def processing_ponctuantion (new_string) : \n",
    "    new_string = re.sub(\"[?]+\" , \" \", new_string)\n",
    "    new_string = re.sub(\"[!]+\" , \"  \", new_string)\n",
    "    new_string = re.sub(\"[.]+\" , \"\", new_string)\n",
    "    new_string = re.sub(\"[;]+\" , \" \", new_string)\n",
    "    new_string = re.sub(\"[,]+\" , \" \", new_string)\n",
    "    new_string = re.sub(\"[:]+\" , \" \", new_string)\n",
    "    new_string = re.sub(\"[-]+\" , \" \", new_string)\n",
    "    new_string = re.sub(\"[&]+\" , \" \", new_string)\n",
    "    new_string = re.sub(\"[$]+\" , \" \", new_string)\n",
    "    return new_string"
   ]
  },
  {
   "cell_type": "code",
   "execution_count": 13,
   "metadata": {},
   "outputs": [],
   "source": [
    "def nlp_processing_pipline ()  : \n",
    "    for index in df.index  : \n",
    "        string = df.loc[index,'Tweet_text']\n",
    "        string = string.lower()\n",
    "        new_string = re.sub('https?:?//\\S+|www\\.\\S+', ' ', string)  ## Traiter les liens \n",
    "        new_string =re.sub('http?:?//\\S+', ' ', new_string) ## Traiter les liens \n",
    "        new_string = processing_Imoji (new_string)  # traiter les imojis \n",
    "        new_string = processing_ponctuantion(new_string)  # traiter la ponctuation \n",
    "        new_string = re.sub(\"[\\']+\" , \"\", new_string) # traiter les apostrophes\n",
    "        new_string = re.sub(\"[0-9]+\" , \"number\", new_string) # traiter les nombres \n",
    "        new_string = re.sub(\"[_]+\" , \"\", new_string) # traiter les __\n",
    "        new_string = re.sub(\"[\\(|\\)]+\" , \" \", new_string) # traiter les parentheses \n",
    "        new_string = re.sub(\"[@]+[a-z|_]*\" , \"\", new_string) # traitement des identification de twwiter @ \n",
    "        new_string = re.sub(\"[#]+\" , \"\", new_string) # traitement des \"#\"\n",
    "        new_string = re.sub(\"[/]+\" , \" \", new_string) \n",
    "        new_string = re.sub(\"[$]+\" , \" \", new_string) \n",
    "        new_string = re.sub(\"[\\\"]+\" , \" \", new_string)\n",
    "        new_string = re.sub(\"[+|-|>|<|=|*]+\" , \" \", new_string) # traitement des operation \n",
    "        ## Traitement des tout les carachter speciaux\n",
    "        new_string_ = \"\"\n",
    "        words = new_string.split(\" \") \n",
    "        for word in words : \n",
    "            new_word = \"\"\n",
    "            for char in word :\n",
    "                match = re.search(\"[a-z]+\" ,char)\n",
    "                if match : \n",
    "                    new_word  =new_word + \"\" + char\n",
    "            new_string_ = new_string_ + \" \" + new_word\n",
    "        df.loc[index,'Tweet_text'] =  new_string_"
   ]
  },
  {
   "cell_type": "code",
   "execution_count": 23,
   "metadata": {},
   "outputs": [],
   "source": [
    "nlp_processing_pipline()"
   ]
  },
  {
   "cell_type": "markdown",
   "metadata": {},
   "source": [
    "### Stop Words "
   ]
  },
  {
   "cell_type": "code",
   "execution_count": 24,
   "metadata": {},
   "outputs": [],
   "source": [
    "## après avoir etabli une liste des 200 mots les \n",
    "## plus frèquents dans les twwet, et après avoir \n",
    "## fait un filltage de ces mots on obtenu une liste de 56 mots stopword\n",
    "\n",
    "df_stop_words = pd.read_csv('Stop_words.csv')\n",
    "df_stop_words.head()\n",
    "df_stop_words.dropna(inplace=True)"
   ]
  },
  {
   "cell_type": "code",
   "execution_count": 25,
   "metadata": {},
   "outputs": [
    {
     "name": "stdout",
     "output_type": "stream",
     "text": [
      "Nombre de stop Words :  56\n",
      "['the', 'to', 'a', 'rt', 'i', 'on', 'and', 'for', 'is', 'my', 'in', 'of', 'you', 'it', 'with', 'me', 'new', 'at', 'your', 'that', 'this', 'be', 'from', 'do', 'have', 'an', 'now', 'are', 'like', 'so', 'all', 'how', 'out', 'can', 'up', 'what', 'when', 'more', 'has', 'by', \"it's\", 'or', 'why', 'if', \"i'm\", 'as', 'about', 'will', 'we', 'u', 'its', 'was', 'they', 'here', 'their', 'off']\n"
     ]
    }
   ],
   "source": [
    "Stops_words = list(df_stop_words['Word'])\n",
    "print(\"Nombre de stop Words : \" , len(Stops_words))\n",
    "print(Stops_words)"
   ]
  },
  {
   "cell_type": "code",
   "execution_count": 26,
   "metadata": {},
   "outputs": [],
   "source": [
    "## Supprimer les stop words dans nos Tweet : \n",
    "df['Tweet_text'] = df['Tweet_text'].apply(lambda x: ' '.join([word for word in x.split() if word not in (Stops_words)]))"
   ]
  },
  {
   "cell_type": "markdown",
   "metadata": {},
   "source": [
    "### Lemmetisation : "
   ]
  },
  {
   "cell_type": "code",
   "execution_count": 27,
   "metadata": {},
   "outputs": [],
   "source": [
    "## pour effectuer cette tache, on s'appuie sur la bibliotheque nltk.stem.snowball\n",
    "stemmer = EnglishStemmer()\n",
    "df['Tweet_text'] = df['Tweet_text'].apply(lambda x: ' '.join([stemmer.stem(word) for word in x.split() ]))"
   ]
  },
  {
   "attachments": {
    "image.png": {
     "image/png": "[encoded data removed]"
    }
   },
   "cell_type": "markdown",
   "metadata": {},
   "source": [
    "##  Conception Du Model Architecture 01 \n",
    "![image.png](attachment:image.png)\n",
    "###### Dans cette architecture on a un seul model pour predire les quatre Classe "
   ]
  },
  {
   "cell_type": "code",
   "execution_count": 86,
   "metadata": {},
   "outputs": [
    {
     "data": {
      "text/html": [
       "<div>\n",
       "<style scoped>\n",
       "    .dataframe tbody tr th:only-of-type {\n",
       "        vertical-align: middle;\n",
       "    }\n",
       "\n",
       "    .dataframe tbody tr th {\n",
       "        vertical-align: top;\n",
       "    }\n",
       "\n",
       "    .dataframe thead th {\n",
       "        text-align: right;\n",
       "    }\n",
       "</style>\n",
       "<table border=\"1\" class=\"dataframe\">\n",
       "  <thead>\n",
       "    <tr style=\"text-align: right;\">\n",
       "      <th></th>\n",
       "      <th>ID</th>\n",
       "      <th>Company</th>\n",
       "      <th>Tweet_text</th>\n",
       "      <th>tweet_text_length</th>\n",
       "      <th>Langue</th>\n",
       "    </tr>\n",
       "  </thead>\n",
       "  <tbody>\n",
       "    <tr>\n",
       "      <th>0</th>\n",
       "      <td>0000</td>\n",
       "      <td>0</td>\n",
       "      <td>number min line store pump</td>\n",
       "      <td>7</td>\n",
       "      <td>1</td>\n",
       "    </tr>\n",
       "    <tr>\n",
       "      <th>1</th>\n",
       "      <td>0001</td>\n",
       "      <td>2</td>\n",
       "      <td>nueva tecnologa conviert cualquier superfici e...</td>\n",
       "      <td>12</td>\n",
       "      <td>0</td>\n",
       "    </tr>\n",
       "    <tr>\n",
       "      <th>2</th>\n",
       "      <td>0002</td>\n",
       "      <td>1</td>\n",
       "      <td>some peopl should not post repli googl thread ...</td>\n",
       "      <td>17</td>\n",
       "      <td>1</td>\n",
       "    </tr>\n",
       "    <tr>\n",
       "      <th>3</th>\n",
       "      <td>0003</td>\n",
       "      <td>0</td>\n",
       "      <td>know few other same issu number second full ch...</td>\n",
       "      <td>22</td>\n",
       "      <td>1</td>\n",
       "    </tr>\n",
       "    <tr>\n",
       "      <th>4</th>\n",
       "      <td>0004</td>\n",
       "      <td>2</td>\n",
       "      <td>microsoft put backward into backward compat in...</td>\n",
       "      <td>10</td>\n",
       "      <td>1</td>\n",
       "    </tr>\n",
       "  </tbody>\n",
       "</table>\n",
       "</div>"
      ],
      "text/plain": [
       "     ID  Company                                         Tweet_text  \\\n",
       "0  0000        0                         number min line store pump   \n",
       "1  0001        2  nueva tecnologa conviert cualquier superfici e...   \n",
       "2  0002        1  some peopl should not post repli googl thread ...   \n",
       "3  0003        0  know few other same issu number second full ch...   \n",
       "4  0004        2  microsoft put backward into backward compat in...   \n",
       "\n",
       "  tweet_text_length  Langue  \n",
       "0                 7       1  \n",
       "1                12       0  \n",
       "2                17       1  \n",
       "3                22       1  \n",
       "4                10       1  "
      ]
     },
     "execution_count": 86,
     "metadata": {},
     "output_type": "execute_result"
    }
   ],
   "source": [
    "Y = df['feeling_detected']\n",
    "X = df.drop ('feeling_detected'  , axis = 1)\n",
    "X.head()"
   ]
  },
  {
   "cell_type": "code",
   "execution_count": 87,
   "metadata": {},
   "outputs": [],
   "source": [
    "X_train, X_test, y_train, y_test = train_test_split(X, Y, test_size=0.2, random_state=42) # split les données"
   ]
  },
  {
   "cell_type": "code",
   "execution_count": 88,
   "metadata": {},
   "outputs": [],
   "source": [
    "Vectorizer = CountVectorizer(ngram_range = (1,2), analyzer='word', max_features=800 ) ## Count vectorizer "
   ]
  },
  {
   "cell_type": "code",
   "execution_count": 89,
   "metadata": {},
   "outputs": [],
   "source": [
    "X_train_vectorized = Vectorizer.fit_transform(X_train['Tweet_text']) \n",
    "X_train_vectorized =X_train_vectorized.toarray()"
   ]
  },
  {
   "cell_type": "code",
   "execution_count": 90,
   "metadata": {
    "scrolled": true
   },
   "outputs": [
    {
     "name": "stdout",
     "output_type": "stream",
     "text": [
      "['account', 'actual', 'ad', 'add', 'addict', 'after', 'again', 'against', 'age', 'age number', 'ah', 'ahora', 'al', 'al twitter', 'alreadi', 'also', 'alway', 'am', 'amaz', 'analyt', 'android', 'android beam', 'android googl', 'android ic', 'android icecreamsandwich', 'android microsoft', 'android number', 'android phone', 'android samsung', 'androidnumb', 'ani', 'announc', 'anoth', 'anyon', 'app', 'app pampershelloapp', 'appl', 'appl googl', 'appl microsoft', 'appl store', 'appli', 'aqui', 'articl', 'asia', 'asia googl', 'asiaclassifiedtoday', 'ask', 'ass', 'auf', 'augnl', 'autopilot', 'autopilot let', 'autopilot numberaday', 'avail', 'avec', 'away', 'awesom', 'azur', 'babi', 'babi memori', 'back', 'bad', 'ballmer', 'bar', 'batteri', 'beam', 'beat', 'becaus', 'been', 'befor', 'best', 'better', 'between', 'bien', 'big', 'bij', 'bill', 'bill gate', 'bing', 'bit', 'blog', 'book', 'bookca', 'both', 'bought', 'bring', 'buena', 'bueno', 'build', 'busi', 'but', 'buy', 'buy yahoo', 'buzz', 'call', 'camera', 'cant', 'card', 'care', 'case', 'cc', 'celebr', 'ceo', 'ceo steve', 'cest', 'chang', 'chart', 'check', 'chrome', 'click', 'cloud', 'code', 'come', 'como', 'compani', 'comput', 'con', 'connect', 'consid', 'contact', 'control', 'cool', 'copi', 'could', 'crash', 'cream', 'cream sandwich', 'creat', 'cualquier', 'cualquier superfici', 'cuando', 'cuenta', 'custom', 'custom servic', 'da', 'damn', 'dan', 'das', 'dat', 'data', 'day', 'day number', 'de', 'de googl', 'de la', 'de microsoft', 'de skype', 'de twitter', 'deal', 'dear', 'default', 'del', 'der', 'des', 'desd', 'design', 'detail', 'develop', 'devic', 'dhilipsiva', 'di', 'dia', 'did', 'didnt', 'die', 'digit', 'direct', 'disappoint', 'doe', 'doesnt', 'done', 'dont', 'down', 'download', 'droid', 'drop', 'du', 'dynam', 'ebook', 'ebook googl', 'een', 'el', 'el nuevo', 'el twitter', 'em', 'email', 'en', 'en el', 'en la', 'en twitter', 'encrypt', 'encrypt search', 'end', 'engag', 'engin', 'enterpri', 'es', 'eso', 'est', 'esta', 'estoy', 'et', 'eu', 'even', 'event', 'ever', 'everi', 'everyon', 'everyth', 'excel', 'explain', 'face', 'facebook', 'facebook googl', 'facebook twitter', 'facial', 'fail', 'fan', 'far', 'fast', 'fb', 'featur', 'feel', 'ff', 'file', 'final', 'find', 'find twittertim', 'first', 'fix', 'folder', 'follow', 'follow teamfollowback', 'follow twitter', 'forb', 'fr', 'free', 'free window', 'friend', 'fuck', 'full', 'function', 'funni', 'futur', 'gain', 'gain follow', 'galaxi', 'galaxi nexus', 'galaxynexus', 'galaxynexus googl', 'game', 'gate', 'genius', 'genius bar', 'gent', 'get', 'give', 'glad', 'gmail', 'go', 'go gplus', 'good', 'goodnight', 'goodnight twitter', 'googl', 'googl android', 'googl announc', 'googl galaxi', 'googl galaxynexus', 'googl googl', 'googl ic', 'googl ice', 'googl icecreamsandwich', 'googl microsoft', 'googl nexus', 'googl nexusprim', 'googl relea', 'googl samsung', 'googl teamfollowback', 'googl then', 'googleplus', 'googleplus googl', 'got', 'got twitter', 'gplus', 'gplus googleplus', 'great', 'gt', 'guy', 'ha', 'hace', 'hack', 'had', 'haha', 'hand', 'happen', 'happi', 'hate', 'hay', 'he', 'hell', 'hello', 'help', 'her', 'hey', 'his', 'hold', 'holodesk', 'home', 'hong', 'hong kong', 'hope', 'hour', 'hour number', 'hoy', 'http', 'ic', 'ic googl', 'ice', 'ice cream', 'icecream', 'icecreamsandwich', 'icecreamsandwich googl', 'icecreamsandwich samsung', 'ich', 'icloud', 'idea', 'ik', 'il', 'ill', 'im', 'im not', 'imessag', 'impress', 'improv', 'includ', 'infinit', 'info', 'instal', 'instead', 'integr', 'interest', 'interfac', 'internet', 'into', 'into touchscreen', 'introduc', 'io', 'io number', 'iosnumb', 'ipad', 'iphon', 'iphon number', 'iphonenumb', 'ipod', 'ipod touch', 'isnt', 'issu', 'ist', 'itun', 'iv', 'ja', 'jaja', 'jajaja', 'je', 'job', 'join', 'just', 'keep', 'key', 'keyboard', 'kid', 'kinect', 'know', 'kong', 'la', 'lanza', 'lanza sitio', 'las', 'last', 'launch', 'le', 'learn', 'les', 'let', 'let gain', 'life', 'line', 'link', 'linux', 'list', 'live', 'lo', 'lo que', 'lock', 'log', 'lol', 'long', 'look', 'los', 'lose', 'lost', 'lot', 'love', 'lt', 'lucki', 'maana', 'mac', 'macbook', 'made', 'mai', 'make', 'man', 'manag', 'mango', 'mani', 'market', 'mas', 'media', 'mejor', 'memori', 'mention', 'met', 'metro', 'meu', 'mi', 'microsoft', 'microsoft ballmer', 'microsoft ceo', 'microsoft cloud', 'microsoft dynam', 'microsoft lanza', 'microsoft offic', 'microsoft omnitouch', 'microsoft research', 'microsoft sharepoint', 'microsoft steveballm', 'microsoft store', 'microsoft window', 'microsoft windowsphon', 'million', 'minut', 'minut number', 'miss', 'mobil', 'moment', 'month', 'most', 'motorola', 'move', 'ms', 'msft', 'much', 'music', 'must', 'na', 'naar', 'nada', 'name', 'need', 'neowin', 'net', 'network', 'never', 'news', 'next', 'nexus', 'nexus android', 'nexus googl', 'nexus ice', 'nexus prime', 'nexus samsung', 'nexusprim', 'nfc', 'nice', 'night', 'night twitter', 'no', 'no twitter', 'noch', 'nokia', 'not', 'not buy', 'nov', 'nueva', 'nuevo', 'number', 'number day', 'number de', 'number googl', 'number hour', 'number ice', 'number microsoft', 'number million', 'number minut', 'number number', 'number second', 'number twitter', 'number year', 'numberaday', 'numberaday number', 'numberg', 'offer', 'offer free', 'offic', 'offic number', 'offici', 'ofici', 'ofici de', 'oh', 'ok', 'old', 'omnitouch', 'one', 'onlin', 'ook', 'op', 'open', 'os', 'other', 'ou', 'our', 'outlook', 'over', 'own', 'page', 'panorama', 'pantalla', 'para', 'part', 'partner', 'pas', 'patent', 'pay', 'pc', 'pdf', 'pdf ebook', 'peopl', 'per', 'pero', 'person', 'phone', 'phone mango', 'phone number', 'photo', 'pictur', 'plan', 'play', 'plea', 'point', 'poker', 'por', 'post', 'pour', 'power', 'ppl', 'pra', 'present', 'pretti', 'preview', 'prime', 'pro', 'problem', 'product', 'project', 'purcha', 'put', 'put twitter', 'qe', 'que', 'que no', 'read', 'real', 'realli', 'recognit', 'relea', 'replac', 'report', 'research', 'restor', 'retweet', 'review', 'right', 'run', 'sad', 'sad appl', 'said', 'sale', 'same', 'samsung', 'samsung galaxi', 'samsung googl', 'sandwich', 'sandwich android', 'sandwich galaxi', 'sandwich googl', 'save', 'say', 'screen', 'sdk', 'sdk avail', 'se', 'search', 'second', 'second find', 'secur', 'see', 'seem', 'seen', 'sell', 'send', 'seo', 'ser', 'serious', 'server', 'servic', 'share', 'sharepoint', 'she', 'shit', 'should', 'show', 'si', 'sign', 'sin', 'sinc', 'siri', 'site', 'sitio', 'sitio ofici', 'skype', 'sleep', 'smartphon', 'sobr', 'social', 'socialmedia', 'socialnetwork', 'softwar', 'solut', 'some', 'someon', 'someth', 'sometim', 'soni', 'sound', 'spot', 'start', 'step', 'steve', 'steve ballmer', 'steve job', 'steveballm', 'stevejob', 'still', 'stop', 'store', 'street', 'stuff', 'su', 'such', 'suck', 'suit', 'summit', 'superfici', 'support', 'sur', 'sure', 'surfac', 'sync', 'system', 'tablet', 'take', 'talk', 'tcn', 'tctil', 'te', 'teamfollowback', 'teamfollowback socialnetwork', 'teamfollowback twitter', 'tech', 'technolog', 'tecnologia', 'tell', 'tengo', 'test', 'text', 'than', 'thank', 'them', 'then', 'then go', 'there', 'these', 'thing', 'think', 'though', 'through', 'thx', 'tien', 'time', 'tip', 'today', 'todo', 'tomorrow', 'tonight', 'too', 'tool', 'top', 'total', 'touch', 'touchscreen', 'tout', 'train', 'tri', 'trs', 'tu', 'turn', 'tweet', 'twitter', 'twitter age', 'twitter autopilot', 'twitter buzz', 'twitter es', 'twitter facebook', 'twitter follow', 'twitter happi', 'twitter number', 'twittertim', 'two', 'um', 'un', 'una', 'und', 'une', 'unlock', 'unveil', 'updat', 'upgrad', 'ur', 'us', 'use', 'use twitter', 'user', 'va', 'van', 'ver', 'veri', 'version', 'via', 'video', 'virtual', 'voic', 'von', 'voor', 'vs', 'wait', 'wall', 'wanna', 'want', 'war', 'watch', 'way', 'web', 'websit', 'week', 'weekend', 'wel', 'welcom', 'well', 'were', 'where', 'whi', 'which', 'white', 'who', 'wikileak', 'win', 'window', 'window number', 'window phone', 'windowsnumb', 'windowsphon', 'wonder', 'wont', 'word', 'work', 'world', 'would', 'wow', 'wpnumber', 'xbox', 'xd', 'ya', 'yahoo', 'year', 'year number', 'yet', 'yo', 'youtub', 'zijn']\n"
     ]
    }
   ],
   "source": [
    "features = Vectorizer.get_feature_names()\n",
    "print((features))"
   ]
  },
  {
   "cell_type": "code",
   "execution_count": 91,
   "metadata": {},
   "outputs": [],
   "source": [
    "df_train = pd.DataFrame(X_train_vectorized,columns=features) "
   ]
  },
  {
   "cell_type": "code",
   "execution_count": 92,
   "metadata": {},
   "outputs": [],
   "source": [
    "## Ajouter les features de reference au train set à savoir 'langue' ,'Company' , 'tweet_text_length'\n",
    "X_test_langue_train = list(X_train['Langue'])\n",
    "X_test_Company_train= list(X_train['Company'])\n",
    "X_test_tweet_text_length_train= list(X_train['tweet_text_length'])\n",
    "\n",
    "df_train['Langue'] =X_test_langue_train\n",
    "df_train['Company'] =  X_test_Company_train\n",
    "df_train['tweet_text_length'] =  X_test_tweet_text_length_train"
   ]
  },
  {
   "cell_type": "code",
   "execution_count": 93,
   "metadata": {},
   "outputs": [],
   "source": [
    "# Fonction pour supprimer les mot qui apparaissent moin de n fois, le n est determiné par le parametre seuil\n",
    "def clean_df_by_frequence (df , seuil = 1) : \n",
    "    res = []\n",
    "    for col in df.columns :\n",
    "        if df[col].sum() <= seuil : \n",
    "            res.append(col)\n",
    "    return res\n",
    "\n",
    "col_to_drop = clean_df_by_frequence(df_train,seuil = 2)\n",
    "df_train.drop(col_to_drop , axis = 1 , inplace= True)"
   ]
  },
  {
   "cell_type": "code",
   "execution_count": 94,
   "metadata": {},
   "outputs": [
    {
     "data": {
      "text/html": [
       "<div>\n",
       "<style scoped>\n",
       "    .dataframe tbody tr th:only-of-type {\n",
       "        vertical-align: middle;\n",
       "    }\n",
       "\n",
       "    .dataframe tbody tr th {\n",
       "        vertical-align: top;\n",
       "    }\n",
       "\n",
       "    .dataframe thead th {\n",
       "        text-align: right;\n",
       "    }\n",
       "</style>\n",
       "<table border=\"1\" class=\"dataframe\">\n",
       "  <thead>\n",
       "    <tr style=\"text-align: right;\">\n",
       "      <th></th>\n",
       "      <th>account</th>\n",
       "      <th>actual</th>\n",
       "      <th>ad</th>\n",
       "      <th>add</th>\n",
       "      <th>addict</th>\n",
       "      <th>after</th>\n",
       "      <th>again</th>\n",
       "      <th>against</th>\n",
       "      <th>age</th>\n",
       "      <th>age number</th>\n",
       "      <th>...</th>\n",
       "      <th>yahoo</th>\n",
       "      <th>year</th>\n",
       "      <th>year number</th>\n",
       "      <th>yet</th>\n",
       "      <th>yo</th>\n",
       "      <th>youtub</th>\n",
       "      <th>zijn</th>\n",
       "      <th>Langue</th>\n",
       "      <th>Company</th>\n",
       "      <th>tweet_text_length</th>\n",
       "    </tr>\n",
       "  </thead>\n",
       "  <tbody>\n",
       "    <tr>\n",
       "      <th>0</th>\n",
       "      <td>0</td>\n",
       "      <td>0</td>\n",
       "      <td>0</td>\n",
       "      <td>0</td>\n",
       "      <td>0</td>\n",
       "      <td>0</td>\n",
       "      <td>0</td>\n",
       "      <td>0</td>\n",
       "      <td>0</td>\n",
       "      <td>0</td>\n",
       "      <td>...</td>\n",
       "      <td>0</td>\n",
       "      <td>0</td>\n",
       "      <td>0</td>\n",
       "      <td>0</td>\n",
       "      <td>0</td>\n",
       "      <td>0</td>\n",
       "      <td>0</td>\n",
       "      <td>1</td>\n",
       "      <td>1</td>\n",
       "      <td>8</td>\n",
       "    </tr>\n",
       "    <tr>\n",
       "      <th>1</th>\n",
       "      <td>0</td>\n",
       "      <td>0</td>\n",
       "      <td>0</td>\n",
       "      <td>0</td>\n",
       "      <td>0</td>\n",
       "      <td>0</td>\n",
       "      <td>0</td>\n",
       "      <td>0</td>\n",
       "      <td>0</td>\n",
       "      <td>0</td>\n",
       "      <td>...</td>\n",
       "      <td>1</td>\n",
       "      <td>0</td>\n",
       "      <td>0</td>\n",
       "      <td>0</td>\n",
       "      <td>0</td>\n",
       "      <td>0</td>\n",
       "      <td>0</td>\n",
       "      <td>1</td>\n",
       "      <td>2</td>\n",
       "      <td>26</td>\n",
       "    </tr>\n",
       "    <tr>\n",
       "      <th>2</th>\n",
       "      <td>0</td>\n",
       "      <td>0</td>\n",
       "      <td>0</td>\n",
       "      <td>0</td>\n",
       "      <td>0</td>\n",
       "      <td>0</td>\n",
       "      <td>0</td>\n",
       "      <td>0</td>\n",
       "      <td>0</td>\n",
       "      <td>0</td>\n",
       "      <td>...</td>\n",
       "      <td>0</td>\n",
       "      <td>0</td>\n",
       "      <td>0</td>\n",
       "      <td>0</td>\n",
       "      <td>0</td>\n",
       "      <td>0</td>\n",
       "      <td>0</td>\n",
       "      <td>1</td>\n",
       "      <td>1</td>\n",
       "      <td>7</td>\n",
       "    </tr>\n",
       "    <tr>\n",
       "      <th>3</th>\n",
       "      <td>0</td>\n",
       "      <td>0</td>\n",
       "      <td>0</td>\n",
       "      <td>0</td>\n",
       "      <td>0</td>\n",
       "      <td>0</td>\n",
       "      <td>0</td>\n",
       "      <td>0</td>\n",
       "      <td>0</td>\n",
       "      <td>0</td>\n",
       "      <td>...</td>\n",
       "      <td>0</td>\n",
       "      <td>0</td>\n",
       "      <td>0</td>\n",
       "      <td>0</td>\n",
       "      <td>0</td>\n",
       "      <td>0</td>\n",
       "      <td>0</td>\n",
       "      <td>0</td>\n",
       "      <td>3</td>\n",
       "      <td>12</td>\n",
       "    </tr>\n",
       "    <tr>\n",
       "      <th>4</th>\n",
       "      <td>0</td>\n",
       "      <td>0</td>\n",
       "      <td>0</td>\n",
       "      <td>0</td>\n",
       "      <td>0</td>\n",
       "      <td>0</td>\n",
       "      <td>0</td>\n",
       "      <td>0</td>\n",
       "      <td>0</td>\n",
       "      <td>0</td>\n",
       "      <td>...</td>\n",
       "      <td>0</td>\n",
       "      <td>0</td>\n",
       "      <td>0</td>\n",
       "      <td>0</td>\n",
       "      <td>0</td>\n",
       "      <td>0</td>\n",
       "      <td>0</td>\n",
       "      <td>0</td>\n",
       "      <td>1</td>\n",
       "      <td>8</td>\n",
       "    </tr>\n",
       "  </tbody>\n",
       "</table>\n",
       "<p>5 rows × 803 columns</p>\n",
       "</div>"
      ],
      "text/plain": [
       "   account  actual  ad  add  addict  after  again  against  age  age number  \\\n",
       "0        0       0   0    0       0      0      0        0    0           0   \n",
       "1        0       0   0    0       0      0      0        0    0           0   \n",
       "2        0       0   0    0       0      0      0        0    0           0   \n",
       "3        0       0   0    0       0      0      0        0    0           0   \n",
       "4        0       0   0    0       0      0      0        0    0           0   \n",
       "\n",
       "   ...  yahoo  year  year number  yet  yo  youtub  zijn  Langue  Company  \\\n",
       "0  ...      0     0            0    0   0       0     0       1        1   \n",
       "1  ...      1     0            0    0   0       0     0       1        2   \n",
       "2  ...      0     0            0    0   0       0     0       1        1   \n",
       "3  ...      0     0            0    0   0       0     0       0        3   \n",
       "4  ...      0     0            0    0   0       0     0       0        1   \n",
       "\n",
       "   tweet_text_length  \n",
       "0                  8  \n",
       "1                 26  \n",
       "2                  7  \n",
       "3                 12  \n",
       "4                  8  \n",
       "\n",
       "[5 rows x 803 columns]"
      ]
     },
     "execution_count": 94,
     "metadata": {},
     "output_type": "execute_result"
    }
   ],
   "source": [
    "df_train.head()"
   ]
  },
  {
   "cell_type": "code",
   "execution_count": 95,
   "metadata": {},
   "outputs": [],
   "source": [
    "## Ensemble de test\n",
    "X_test_vectorized = Vectorizer.transform(X_test['Tweet_text'])\n",
    "X_test_vectorized = X_test_vectorized.toarray()"
   ]
  },
  {
   "cell_type": "code",
   "execution_count": 96,
   "metadata": {},
   "outputs": [],
   "source": [
    "X_test_langue_test = list(X_test['Langue'])\n",
    "X_test_Company_test= list(X_test['Company'])\n",
    "X_test_tweet_text_length_test= list(X_test['tweet_text_length'])\n",
    "\n",
    "df_test = pd.DataFrame(X_test_vectorized,columns=features)\n",
    "df_test['Langue'] = X_test_langue_test\n",
    "df_test['Company'] =  X_test_Company_test\n",
    "df_test['tweet_text_length'] =  X_test_tweet_text_length_test"
   ]
  },
  {
   "cell_type": "code",
   "execution_count": 97,
   "metadata": {},
   "outputs": [],
   "source": [
    "df_test.drop(col_to_drop , axis = 1 , inplace= True)"
   ]
  },
  {
   "cell_type": "code",
   "execution_count": 98,
   "metadata": {},
   "outputs": [
    {
     "data": {
      "text/html": [
       "<div>\n",
       "<style scoped>\n",
       "    .dataframe tbody tr th:only-of-type {\n",
       "        vertical-align: middle;\n",
       "    }\n",
       "\n",
       "    .dataframe tbody tr th {\n",
       "        vertical-align: top;\n",
       "    }\n",
       "\n",
       "    .dataframe thead th {\n",
       "        text-align: right;\n",
       "    }\n",
       "</style>\n",
       "<table border=\"1\" class=\"dataframe\">\n",
       "  <thead>\n",
       "    <tr style=\"text-align: right;\">\n",
       "      <th></th>\n",
       "      <th>account</th>\n",
       "      <th>actual</th>\n",
       "      <th>ad</th>\n",
       "      <th>add</th>\n",
       "      <th>addict</th>\n",
       "      <th>after</th>\n",
       "      <th>again</th>\n",
       "      <th>against</th>\n",
       "      <th>age</th>\n",
       "      <th>age number</th>\n",
       "      <th>...</th>\n",
       "      <th>yahoo</th>\n",
       "      <th>year</th>\n",
       "      <th>year number</th>\n",
       "      <th>yet</th>\n",
       "      <th>yo</th>\n",
       "      <th>youtub</th>\n",
       "      <th>zijn</th>\n",
       "      <th>Langue</th>\n",
       "      <th>Company</th>\n",
       "      <th>tweet_text_length</th>\n",
       "    </tr>\n",
       "  </thead>\n",
       "  <tbody>\n",
       "    <tr>\n",
       "      <th>0</th>\n",
       "      <td>0</td>\n",
       "      <td>0</td>\n",
       "      <td>0</td>\n",
       "      <td>0</td>\n",
       "      <td>0</td>\n",
       "      <td>0</td>\n",
       "      <td>0</td>\n",
       "      <td>0</td>\n",
       "      <td>0</td>\n",
       "      <td>0</td>\n",
       "      <td>...</td>\n",
       "      <td>0</td>\n",
       "      <td>0</td>\n",
       "      <td>0</td>\n",
       "      <td>0</td>\n",
       "      <td>0</td>\n",
       "      <td>0</td>\n",
       "      <td>0</td>\n",
       "      <td>1</td>\n",
       "      <td>1</td>\n",
       "      <td>16</td>\n",
       "    </tr>\n",
       "    <tr>\n",
       "      <th>1</th>\n",
       "      <td>0</td>\n",
       "      <td>0</td>\n",
       "      <td>0</td>\n",
       "      <td>0</td>\n",
       "      <td>0</td>\n",
       "      <td>0</td>\n",
       "      <td>0</td>\n",
       "      <td>0</td>\n",
       "      <td>0</td>\n",
       "      <td>0</td>\n",
       "      <td>...</td>\n",
       "      <td>0</td>\n",
       "      <td>0</td>\n",
       "      <td>0</td>\n",
       "      <td>0</td>\n",
       "      <td>0</td>\n",
       "      <td>0</td>\n",
       "      <td>0</td>\n",
       "      <td>0</td>\n",
       "      <td>1</td>\n",
       "      <td>6</td>\n",
       "    </tr>\n",
       "    <tr>\n",
       "      <th>2</th>\n",
       "      <td>0</td>\n",
       "      <td>0</td>\n",
       "      <td>0</td>\n",
       "      <td>0</td>\n",
       "      <td>0</td>\n",
       "      <td>0</td>\n",
       "      <td>0</td>\n",
       "      <td>0</td>\n",
       "      <td>0</td>\n",
       "      <td>0</td>\n",
       "      <td>...</td>\n",
       "      <td>0</td>\n",
       "      <td>0</td>\n",
       "      <td>0</td>\n",
       "      <td>0</td>\n",
       "      <td>0</td>\n",
       "      <td>0</td>\n",
       "      <td>0</td>\n",
       "      <td>1</td>\n",
       "      <td>2</td>\n",
       "      <td>18</td>\n",
       "    </tr>\n",
       "    <tr>\n",
       "      <th>3</th>\n",
       "      <td>0</td>\n",
       "      <td>0</td>\n",
       "      <td>0</td>\n",
       "      <td>0</td>\n",
       "      <td>0</td>\n",
       "      <td>0</td>\n",
       "      <td>0</td>\n",
       "      <td>0</td>\n",
       "      <td>0</td>\n",
       "      <td>0</td>\n",
       "      <td>...</td>\n",
       "      <td>0</td>\n",
       "      <td>0</td>\n",
       "      <td>0</td>\n",
       "      <td>0</td>\n",
       "      <td>0</td>\n",
       "      <td>0</td>\n",
       "      <td>0</td>\n",
       "      <td>0</td>\n",
       "      <td>3</td>\n",
       "      <td>5</td>\n",
       "    </tr>\n",
       "    <tr>\n",
       "      <th>4</th>\n",
       "      <td>0</td>\n",
       "      <td>0</td>\n",
       "      <td>0</td>\n",
       "      <td>0</td>\n",
       "      <td>0</td>\n",
       "      <td>0</td>\n",
       "      <td>0</td>\n",
       "      <td>0</td>\n",
       "      <td>0</td>\n",
       "      <td>0</td>\n",
       "      <td>...</td>\n",
       "      <td>0</td>\n",
       "      <td>0</td>\n",
       "      <td>0</td>\n",
       "      <td>0</td>\n",
       "      <td>0</td>\n",
       "      <td>0</td>\n",
       "      <td>0</td>\n",
       "      <td>0</td>\n",
       "      <td>0</td>\n",
       "      <td>5</td>\n",
       "    </tr>\n",
       "  </tbody>\n",
       "</table>\n",
       "<p>5 rows × 803 columns</p>\n",
       "</div>"
      ],
      "text/plain": [
       "   account  actual  ad  add  addict  after  again  against  age  age number  \\\n",
       "0        0       0   0    0       0      0      0        0    0           0   \n",
       "1        0       0   0    0       0      0      0        0    0           0   \n",
       "2        0       0   0    0       0      0      0        0    0           0   \n",
       "3        0       0   0    0       0      0      0        0    0           0   \n",
       "4        0       0   0    0       0      0      0        0    0           0   \n",
       "\n",
       "   ...  yahoo  year  year number  yet  yo  youtub  zijn  Langue  Company  \\\n",
       "0  ...      0     0            0    0   0       0     0       1        1   \n",
       "1  ...      0     0            0    0   0       0     0       0        1   \n",
       "2  ...      0     0            0    0   0       0     0       1        2   \n",
       "3  ...      0     0            0    0   0       0     0       0        3   \n",
       "4  ...      0     0            0    0   0       0     0       0        0   \n",
       "\n",
       "   tweet_text_length  \n",
       "0                 16  \n",
       "1                  6  \n",
       "2                 18  \n",
       "3                  5  \n",
       "4                  5  \n",
       "\n",
       "[5 rows x 803 columns]"
      ]
     },
     "execution_count": 98,
     "metadata": {},
     "output_type": "execute_result"
    }
   ],
   "source": [
    "df_test.head()"
   ]
  },
  {
   "attachments": {
    "image.png": {
     "image/png": "[encoded data removed]"
    }
   },
   "cell_type": "markdown",
   "metadata": {},
   "source": [
    "#### MRMR\n",
    "![image.png](attachment:image.png)\n"
   ]
  },
  {
   "cell_type": "code",
   "execution_count": 99,
   "metadata": {},
   "outputs": [],
   "source": [
    "from mrmr import mrmr_classif"
   ]
  },
  {
   "cell_type": "code",
   "execution_count": 102,
   "metadata": {},
   "outputs": [],
   "source": [
    "selected_features = mrmr_classif(X= df_train, y=y_train, K=18)"
   ]
  },
  {
   "cell_type": "code",
   "execution_count": 103,
   "metadata": {},
   "outputs": [
    {
     "name": "stdout",
     "output_type": "stream",
     "text": [
      "['excit', 'shit', 'hate', 'fail', 'amaz', 'crash', 'eclips', 'sinc', 'devic microsoft', 'googl nexus', 'sound', 'cant wait', 'fuck', 'doesnt', 'final', 'troubl', 'piss', 'love']\n"
     ]
    }
   ],
   "source": [
    "print(selected_features)"
   ]
  },
  {
   "cell_type": "markdown",
   "metadata": {},
   "source": [
    "on a pas appliquer ce traitement car ça n'améliore pas notre score en revanche notre model est beaucoup plus simple"
   ]
  },
  {
   "cell_type": "markdown",
   "metadata": {},
   "source": [
    "##### Multi layer perceptron"
   ]
  },
  {
   "cell_type": "code",
   "execution_count": 104,
   "metadata": {},
   "outputs": [
    {
     "name": "stdout",
     "output_type": "stream",
     "text": [
      "Accuracy  :  0.7772455089820359\n",
      "F1_Score  :  0.7716131199434848\n",
      "Accuracy_Train  :  0.8466147393648892\n",
      "F1_Score_Train  :  0.8437784968577559\n"
     ]
    }
   ],
   "source": [
    "clf = MLPClassifier(activation = 'tanh',alpha=1e-6,batch_size=32,  solver ='adam' ,hidden_layer_sizes=(32,16), random_state=1,max_iter= 4)\n",
    "clf.fit(df_train, y_train)\n",
    "y_pred = clf.predict(df_test)\n",
    "print(\"Accuracy  : \" ,accuracy_score(y_pred,y_test))\n",
    "print(\"F1_Score  : \" ,   f1_score(y_test, y_pred, average='weighted'))\n",
    "\n",
    "y_pred = clf.predict(df_train)\n",
    "print(\"Accuracy_Train  : \" ,accuracy_score(y_pred,y_train))\n",
    "print(\"F1_Score_Train  : \" ,   f1_score(y_train, y_pred, average='weighted'))"
   ]
  },
  {
   "cell_type": "markdown",
   "metadata": {},
   "source": [
    "##### SVM "
   ]
  },
  {
   "cell_type": "code",
   "execution_count": 105,
   "metadata": {},
   "outputs": [
    {
     "name": "stdout",
     "output_type": "stream",
     "text": [
      "Accuracy  :  0.7772455089820359\n",
      "F1_Score  :  0.7716185599021596\n",
      "Accuracy_Train  :  0.9170161773517076\n",
      "F1_Score_Train  :  0.9163566378717217\n"
     ]
    }
   ],
   "source": [
    "# entrainemet\n",
    "from sklearn import svm\n",
    "clf = svm.SVC(75,kernel = 'rbf' ) \n",
    "clf.fit(df_train, y_train)\n",
    "y_pred = clf.predict(df_test)\n",
    "print(\"Accuracy  : \" ,accuracy_score(y_pred,y_test))\n",
    "print(\"F1_Score  : \" ,   f1_score(y_test, y_pred, average='weighted'))\n",
    "\n",
    "y_pred = clf.predict(df_train)\n",
    "print(\"Accuracy_Train  : \" ,accuracy_score(y_pred,y_train))\n",
    "print(\"F1_Score_Train  : \" ,   f1_score(y_train, y_pred, average='weighted'))"
   ]
  },
  {
   "cell_type": "markdown",
   "metadata": {},
   "source": [
    "##### Random Forest"
   ]
  },
  {
   "cell_type": "code",
   "execution_count": 106,
   "metadata": {},
   "outputs": [
    {
     "name": "stdout",
     "output_type": "stream",
     "text": [
      "Accuracy_Test  :  0.7473053892215569\n",
      "F1_Score_Test  :  0.7061643768632709\n",
      "Accuracy_Train  :  0.914319952067106\n",
      "F1_Score_Train  :  0.9132382774828588\n"
     ]
    }
   ],
   "source": [
    "clf = RandomForestClassifier(max_depth=44, random_state=0,max_features = \"sqrt\",criterion ='entropy')\n",
    "clf.fit(df_train, y_train)\n",
    "y_pred = clf.predict(df_test)\n",
    "print(\"Accuracy_Test  : \" ,accuracy_score(y_pred,y_test))\n",
    "print(\"F1_Score_Test  : \" ,   f1_score(y_test, y_pred, average='weighted'))\n",
    "\n",
    "y_pred = clf.predict(df_train)\n",
    "print(\"Accuracy_Train  : \" ,accuracy_score(y_pred,y_train))\n",
    "print(\"F1_Score_Train  : \" ,   f1_score(y_train, y_pred, average='weighted'))"
   ]
  },
  {
   "attachments": {
    "image.png": {
     "image/png": "[encoded data removed]"
    }
   },
   "cell_type": "markdown",
   "metadata": {},
   "source": [
    "##  Conception Du Model Architecture 01 \n",
    "![image.png](attachment:image.png)\n",
    "###### Dans cette architecture on a deux model :\n",
    "        ° le premier pour separer les relevant et irrelevant \n",
    "        ° le deuxieme pour separer les positifs, negatifs et neutres "
   ]
  },
  {
   "cell_type": "markdown",
   "metadata": {},
   "source": [
    "#### Partie I"
   ]
  },
  {
   "cell_type": "code",
   "execution_count": 111,
   "metadata": {},
   "outputs": [
    {
     "data": {
      "text/html": [
       "<div>\n",
       "<style scoped>\n",
       "    .dataframe tbody tr th:only-of-type {\n",
       "        vertical-align: middle;\n",
       "    }\n",
       "\n",
       "    .dataframe tbody tr th {\n",
       "        vertical-align: top;\n",
       "    }\n",
       "\n",
       "    .dataframe thead th {\n",
       "        text-align: right;\n",
       "    }\n",
       "</style>\n",
       "<table border=\"1\" class=\"dataframe\">\n",
       "  <thead>\n",
       "    <tr style=\"text-align: right;\">\n",
       "      <th></th>\n",
       "      <th>ID</th>\n",
       "      <th>Company</th>\n",
       "      <th>Tweet_text</th>\n",
       "      <th>tweet_text_length</th>\n",
       "      <th>Langue</th>\n",
       "    </tr>\n",
       "  </thead>\n",
       "  <tbody>\n",
       "    <tr>\n",
       "      <th>0</th>\n",
       "      <td>0000</td>\n",
       "      <td>0</td>\n",
       "      <td>number min line store pump</td>\n",
       "      <td>7</td>\n",
       "      <td>1</td>\n",
       "    </tr>\n",
       "    <tr>\n",
       "      <th>1</th>\n",
       "      <td>0001</td>\n",
       "      <td>2</td>\n",
       "      <td>nueva tecnologa conviert cualquier superfici e...</td>\n",
       "      <td>12</td>\n",
       "      <td>0</td>\n",
       "    </tr>\n",
       "    <tr>\n",
       "      <th>2</th>\n",
       "      <td>0002</td>\n",
       "      <td>1</td>\n",
       "      <td>some peopl should not post repli googl thread ...</td>\n",
       "      <td>17</td>\n",
       "      <td>1</td>\n",
       "    </tr>\n",
       "    <tr>\n",
       "      <th>3</th>\n",
       "      <td>0003</td>\n",
       "      <td>0</td>\n",
       "      <td>know few other same issu number second full ch...</td>\n",
       "      <td>22</td>\n",
       "      <td>1</td>\n",
       "    </tr>\n",
       "    <tr>\n",
       "      <th>4</th>\n",
       "      <td>0004</td>\n",
       "      <td>2</td>\n",
       "      <td>microsoft put backward into backward compat in...</td>\n",
       "      <td>10</td>\n",
       "      <td>1</td>\n",
       "    </tr>\n",
       "  </tbody>\n",
       "</table>\n",
       "</div>"
      ],
      "text/plain": [
       "     ID  Company                                         Tweet_text  \\\n",
       "0  0000        0                         number min line store pump   \n",
       "1  0001        2  nueva tecnologa conviert cualquier superfici e...   \n",
       "2  0002        1  some peopl should not post repli googl thread ...   \n",
       "3  0003        0  know few other same issu number second full ch...   \n",
       "4  0004        2  microsoft put backward into backward compat in...   \n",
       "\n",
       "  tweet_text_length  Langue  \n",
       "0                 7       1  \n",
       "1                12       0  \n",
       "2                17       1  \n",
       "3                22       1  \n",
       "4                10       1  "
      ]
     },
     "execution_count": 111,
     "metadata": {},
     "output_type": "execute_result"
    }
   ],
   "source": [
    "Y = df['feeling_detected']\n",
    "X = df.drop ('feeling_detected'  , axis = 1)\n",
    "X.head()"
   ]
  },
  {
   "cell_type": "code",
   "execution_count": 112,
   "metadata": {},
   "outputs": [],
   "source": [
    "## Création de la nouvelle cible avec deux Class : irr and not_irr\n",
    "Y_new  = []\n",
    "for x in Y : \n",
    "    if x == 'irr' : \n",
    "        Y_new.append('irr')\n",
    "    else : \n",
    "        Y_new.append('not_irr')"
   ]
  },
  {
   "cell_type": "code",
   "execution_count": 113,
   "metadata": {},
   "outputs": [],
   "source": [
    "X_train, X_test, y_train, y_test = train_test_split(X, Y_new, test_size=0.2, random_state=42)"
   ]
  },
  {
   "cell_type": "code",
   "execution_count": 114,
   "metadata": {},
   "outputs": [],
   "source": [
    "Vectorizer = CountVectorizer(ngram_range = (1,2), analyzer='word' , max_features= 500)"
   ]
  },
  {
   "cell_type": "code",
   "execution_count": 115,
   "metadata": {},
   "outputs": [],
   "source": [
    "X_train_vectorized = Vectorizer.fit_transform(X_train['Tweet_text'])\n",
    "X_train_vectorized =X_train_vectorized.toarray()"
   ]
  },
  {
   "cell_type": "code",
   "execution_count": 117,
   "metadata": {},
   "outputs": [],
   "source": [
    "features = Vectorizer.get_feature_names()"
   ]
  },
  {
   "cell_type": "code",
   "execution_count": 119,
   "metadata": {},
   "outputs": [],
   "source": [
    "df_train = pd.DataFrame(X_train_vectorized,columns=features)\n",
    "\n",
    "X_test_langue_train = list(X_train['Langue'])\n",
    "X_test_Company_train= list(X_train['Company'])\n",
    "X_test_tweet_text_length_train= list(X_train['tweet_text_length'])\n",
    "\n",
    "df_train['Langue'] =X_test_langue_train\n",
    "df_train['Company'] =  X_test_Company_train\n",
    "df_train['tweet_text_length'] =  X_test_tweet_text_length_train\n",
    "\n",
    "col_to_drop = clean_df_by_frequence(df_train)\n",
    "df_train.drop(col_to_drop , axis = 1 , inplace= True)"
   ]
  },
  {
   "cell_type": "code",
   "execution_count": 120,
   "metadata": {},
   "outputs": [],
   "source": [
    "X_test_vectorized = Vectorizer.transform(X_test['Tweet_text'])\n",
    "X_test_vectorized = X_test_vectorized.toarray()"
   ]
  },
  {
   "cell_type": "code",
   "execution_count": 122,
   "metadata": {},
   "outputs": [],
   "source": [
    "df_test = pd.DataFrame(X_test_vectorized,columns=features) \n",
    "\n",
    "X_test_langue_test = list(X_test['Langue'])\n",
    "X_test_Company_test= list(X_test['Company'])\n",
    "X_test_tweet_text_length_test= list(X_test['tweet_text_length'])\n",
    "\n",
    "df_test['Langue'] = X_test_langue_test\n",
    "df_test['Company'] =  X_test_Company_test\n",
    "df_test['tweet_text_length'] =  X_test_tweet_text_length_test\n",
    "\n",
    "df_test.drop(col_to_drop , axis = 1 , inplace= True)"
   ]
  },
  {
   "cell_type": "markdown",
   "metadata": {},
   "source": [
    "##### MLPClassifier"
   ]
  },
  {
   "cell_type": "code",
   "execution_count": 129,
   "metadata": {},
   "outputs": [
    {
     "name": "stdout",
     "output_type": "stream",
     "text": [
      "Accuracy  :  0.9269461077844311\n",
      "F1_Score  :  0.9266212767761854\n",
      "Accuracy_Train  :  0.9418813660874775\n",
      "F1_Score_Train  :  0.9416669139334043\n"
     ]
    }
   ],
   "source": [
    "clf = MLPClassifier(activation = 'relu',alpha=1e-12, solver ='adam' ,hidden_layer_sizes=(32,16), random_state=1,max_iter= 14)\n",
    "clf.fit(df_train, y_train)\n",
    "y_pred = clf.predict(df_test)\n",
    "print(\"Accuracy  : \" ,accuracy_score(y_pred,y_test))\n",
    "print(\"F1_Score  : \" ,   f1_score(y_test, y_pred, average='weighted'))\n",
    "\n",
    "y_pred = clf.predict(df_train)\n",
    "print(\"Accuracy_Train  : \" ,accuracy_score(y_pred,y_train))\n",
    "print(\"F1_Score_Train  : \" ,   f1_score(y_train, y_pred, average='weighted'))"
   ]
  },
  {
   "cell_type": "markdown",
   "metadata": {},
   "source": [
    "#### svm"
   ]
  },
  {
   "cell_type": "code",
   "execution_count": 130,
   "metadata": {},
   "outputs": [
    {
     "name": "stdout",
     "output_type": "stream",
     "text": [
      "Accuracy  :  0.9137724550898204\n",
      "F1_Score  :  0.9130700229853935\n",
      "Accuracy_Train  :  0.9286998202516477\n",
      "F1_Score_Train  :  0.9279686250346125\n"
     ]
    }
   ],
   "source": [
    "# entrainemet\n",
    "from sklearn import svm\n",
    "clf = svm.SVC(15,kernel = 'rbf' ) \n",
    "clf.fit(df_train, y_train)\n",
    "y_pred = clf.predict(df_test)\n",
    "print(\"Accuracy  : \" ,accuracy_score(y_pred,y_test))\n",
    "print(\"F1_Score  : \" ,   f1_score(y_test, y_pred, average='weighted'))\n",
    "\n",
    "y_pred = clf.predict(df_train)\n",
    "print(\"Accuracy_Train  : \" ,accuracy_score(y_pred,y_train))\n",
    "print(\"F1_Score_Train  : \" ,   f1_score(y_train, y_pred, average='weighted'))"
   ]
  },
  {
   "cell_type": "markdown",
   "metadata": {},
   "source": [
    "### Partie II"
   ]
  },
  {
   "cell_type": "code",
   "execution_count": 133,
   "metadata": {},
   "outputs": [],
   "source": [
    "df_rest = df[df['feeling_detected'] != 'irr']"
   ]
  },
  {
   "cell_type": "code",
   "execution_count": 134,
   "metadata": {},
   "outputs": [
    {
     "data": {
      "text/html": [
       "<div>\n",
       "<style scoped>\n",
       "    .dataframe tbody tr th:only-of-type {\n",
       "        vertical-align: middle;\n",
       "    }\n",
       "\n",
       "    .dataframe tbody tr th {\n",
       "        vertical-align: top;\n",
       "    }\n",
       "\n",
       "    .dataframe thead th {\n",
       "        text-align: right;\n",
       "    }\n",
       "</style>\n",
       "<table border=\"1\" class=\"dataframe\">\n",
       "  <thead>\n",
       "    <tr style=\"text-align: right;\">\n",
       "      <th></th>\n",
       "      <th>ID</th>\n",
       "      <th>Company</th>\n",
       "      <th>Tweet_text</th>\n",
       "      <th>tweet_text_length</th>\n",
       "      <th>Langue</th>\n",
       "    </tr>\n",
       "  </thead>\n",
       "  <tbody>\n",
       "    <tr>\n",
       "      <th>0</th>\n",
       "      <td>0000</td>\n",
       "      <td>0</td>\n",
       "      <td>number min line store pump</td>\n",
       "      <td>7</td>\n",
       "      <td>1</td>\n",
       "    </tr>\n",
       "    <tr>\n",
       "      <th>2</th>\n",
       "      <td>0002</td>\n",
       "      <td>1</td>\n",
       "      <td>some peopl should not post repli googl thread ...</td>\n",
       "      <td>17</td>\n",
       "      <td>1</td>\n",
       "    </tr>\n",
       "    <tr>\n",
       "      <th>3</th>\n",
       "      <td>0003</td>\n",
       "      <td>0</td>\n",
       "      <td>know few other same issu number second full ch...</td>\n",
       "      <td>22</td>\n",
       "      <td>1</td>\n",
       "    </tr>\n",
       "    <tr>\n",
       "      <th>4</th>\n",
       "      <td>0004</td>\n",
       "      <td>2</td>\n",
       "      <td>microsoft put backward into backward compat in...</td>\n",
       "      <td>10</td>\n",
       "      <td>1</td>\n",
       "    </tr>\n",
       "    <tr>\n",
       "      <th>5</th>\n",
       "      <td>0005</td>\n",
       "      <td>3</td>\n",
       "      <td>twitter sooo trash ritenow dezz highscoolmemori</td>\n",
       "      <td>10</td>\n",
       "      <td>1</td>\n",
       "    </tr>\n",
       "  </tbody>\n",
       "</table>\n",
       "</div>"
      ],
      "text/plain": [
       "     ID  Company                                         Tweet_text  \\\n",
       "0  0000        0                         number min line store pump   \n",
       "2  0002        1  some peopl should not post repli googl thread ...   \n",
       "3  0003        0  know few other same issu number second full ch...   \n",
       "4  0004        2  microsoft put backward into backward compat in...   \n",
       "5  0005        3    twitter sooo trash ritenow dezz highscoolmemori   \n",
       "\n",
       "  tweet_text_length  Langue  \n",
       "0                 7       1  \n",
       "2                17       1  \n",
       "3                22       1  \n",
       "4                10       1  \n",
       "5                10       1  "
      ]
     },
     "execution_count": 134,
     "metadata": {},
     "output_type": "execute_result"
    }
   ],
   "source": [
    "Y = df_rest['feeling_detected']\n",
    "X = df_rest.drop ('feeling_detected'  , axis = 1)\n",
    "X.head()"
   ]
  },
  {
   "cell_type": "code",
   "execution_count": 137,
   "metadata": {},
   "outputs": [],
   "source": [
    "X_train, X_test, y_train, y_test = train_test_split(X, Y, test_size=0.2, random_state=42)"
   ]
  },
  {
   "cell_type": "code",
   "execution_count": 162,
   "metadata": {},
   "outputs": [],
   "source": [
    "Vectorizer = CountVectorizer(ngram_range = (1,2), analyzer='word', max_features= 800)"
   ]
  },
  {
   "cell_type": "code",
   "execution_count": 163,
   "metadata": {},
   "outputs": [],
   "source": [
    "X_train_vectorized = Vectorizer.fit_transform(X_train['Tweet_text'])\n",
    "X_train_vectorized =X_train_vectorized.toarray()"
   ]
  },
  {
   "cell_type": "code",
   "execution_count": 164,
   "metadata": {},
   "outputs": [],
   "source": [
    "features = Vectorizer.get_feature_names()"
   ]
  },
  {
   "cell_type": "code",
   "execution_count": 165,
   "metadata": {},
   "outputs": [],
   "source": [
    "df_train = pd.DataFrame(X_train_vectorized,columns=features)\n",
    "\n",
    "X_test_langue_train = list(X_train['Langue'])\n",
    "X_test_Company_train= list(X_train['Company'])\n",
    "X_test_tweet_text_length_train= list(X_train['tweet_text_length'])\n",
    "\n",
    "df_train['Langue'] =X_test_langue_train\n",
    "df_train['Company'] =  X_test_Company_train\n",
    "df_train['tweet_text_length'] =  X_test_tweet_text_length_train\n",
    "\n",
    "col_to_drop = clean_df_by_frequence(df_train)\n",
    "df_train.drop(col_to_drop , axis = 1 , inplace= True)"
   ]
  },
  {
   "cell_type": "code",
   "execution_count": 166,
   "metadata": {},
   "outputs": [],
   "source": [
    "X_test_vectorized = Vectorizer.transform(X_test['Tweet_text'])\n",
    "X_test_vectorized = X_test_vectorized.toarray()"
   ]
  },
  {
   "cell_type": "code",
   "execution_count": 167,
   "metadata": {},
   "outputs": [],
   "source": [
    "df_test = pd.DataFrame(X_test_vectorized,columns=features) \n",
    "\n",
    "X_test_langue_test = list(X_test['Langue'])\n",
    "X_test_Company_test= list(X_test['Company'])\n",
    "X_test_tweet_text_length_test= list(X_test['tweet_text_length'])\n",
    "\n",
    "df_test['Langue'] = X_test_langue_test\n",
    "df_test['Company'] =  X_test_Company_test\n",
    "df_test['tweet_text_length'] =  X_test_tweet_text_length_test\n",
    "\n",
    "df_test.drop(col_to_drop , axis = 1 , inplace= True)"
   ]
  },
  {
   "cell_type": "code",
   "execution_count": 168,
   "metadata": {},
   "outputs": [],
   "source": [
    "##### MLPClassifier"
   ]
  },
  {
   "cell_type": "code",
   "execution_count": 178,
   "metadata": {},
   "outputs": [
    {
     "name": "stdout",
     "output_type": "stream",
     "text": [
      "Accuracy  :  0.7307001795332136\n",
      "F1_Score  :  0.7235006506539364\n",
      "Accuracy_Train  :  0.9012123933542883\n",
      "F1_Score_Train  :  0.9012119807394356\n"
     ]
    }
   ],
   "source": [
    "clf = MLPClassifier(activation = 'tanh',alpha=1e-6,batch_size=32 ,  solver ='adam' ,hidden_layer_sizes=(32,16), random_state=1,max_iter=7)\n",
    "clf.fit(df_train, y_train)\n",
    "y_pred = clf.predict(df_test)\n",
    "print(\"Accuracy  : \" ,accuracy_score(y_pred,y_test))\n",
    "print(\"F1_Score  : \" ,   f1_score(y_test, y_pred, average='weighted'))\n",
    "\n",
    "y_pred = clf.predict(df_train)\n",
    "print(\"Accuracy_Train  : \" ,accuracy_score(y_pred,y_train))\n",
    "print(\"F1_Score_Train  : \" ,   f1_score(y_train, y_pred, average='weighted'))"
   ]
  },
  {
   "cell_type": "code",
   "execution_count": 175,
   "metadata": {},
   "outputs": [
    {
     "name": "stdout",
     "output_type": "stream",
     "text": [
      "Accuracy  :  0.7199281867145422\n",
      "F1_Score  :  0.6973853662458244\n",
      "Accuracy_Train  :  0.9389312977099237\n",
      "F1_Score_Train  :  0.9372350046885557\n"
     ]
    }
   ],
   "source": [
    "# entrainemet\n",
    "from sklearn import svm\n",
    "clf = svm.SVC(75,kernel = 'rbf' ) \n",
    "clf.fit(df_train, y_train)\n",
    "y_pred = clf.predict(df_test)\n",
    "print(\"Accuracy  : \" ,accuracy_score(y_pred,y_test))\n",
    "print(\"F1_Score  : \" ,   f1_score(y_test, y_pred, average='weighted'))\n",
    "\n",
    "y_pred = clf.predict(df_train)\n",
    "print(\"Accuracy_Train  : \" ,accuracy_score(y_pred,y_train))\n",
    "print(\"F1_Score_Train  : \" ,   f1_score(y_train, y_pred, average='weighted'))"
   ]
  },
  {
   "cell_type": "code",
   "execution_count": null,
   "metadata": {},
   "outputs": [],
   "source": []
  }
 ],
 "metadata": {
  "kernelspec": {
   "display_name": "Python 3 (ipykernel)",
   "language": "python",
   "name": "python3"
  },
  "language_info": {
   "codemirror_mode": {
    "name": "ipython",
    "version": 3
   },
   "file_extension": ".py",
   "mimetype": "text/x-python",
   "name": "python",
   "nbconvert_exporter": "python",
   "pygments_lexer": "ipython3",
   "version": "3.7.3"
  }
 },
 "nbformat": 4,
 "nbformat_minor": 2
}
